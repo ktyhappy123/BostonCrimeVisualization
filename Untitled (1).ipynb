{
 "cells": [
  {
   "cell_type": "code",
   "execution_count": 113,
   "id": "34b75547",
   "metadata": {},
   "outputs": [],
   "source": [
    "import numpy as np\n",
    "import pandas as pd\n",
    "import seaborn as sns\n",
    "import matplotlib.pyplot as plt\n",
    "import plotly.graph_objects as go\n",
    "import folium\n",
    "from folium import plugins"
   ]
  },
  {
   "cell_type": "markdown",
   "id": "1f7bcdda",
   "metadata": {},
   "source": [
    "# Importing Data"
   ]
  },
  {
   "cell_type": "markdown",
   "id": "348b882c",
   "metadata": {},
   "source": [
    "Importing the dataset(2017 - 2021)"
   ]
  },
  {
   "cell_type": "code",
   "execution_count": 114,
   "id": "e6704056",
   "metadata": {
    "scrolled": true
   },
   "outputs": [
    {
     "name": "stderr",
     "output_type": "stream",
     "text": [
      "/opt/conda/lib/python3.9/site-packages/IPython/core/interactiveshell.py:3444: DtypeWarning:\n",
      "\n",
      "Columns (0) have mixed types.Specify dtype option on import or set low_memory=False.\n",
      "\n"
     ]
    },
    {
     "data": {
      "text/html": [
       "<div>\n",
       "<style scoped>\n",
       "    .dataframe tbody tr th:only-of-type {\n",
       "        vertical-align: middle;\n",
       "    }\n",
       "\n",
       "    .dataframe tbody tr th {\n",
       "        vertical-align: top;\n",
       "    }\n",
       "\n",
       "    .dataframe thead th {\n",
       "        text-align: right;\n",
       "    }\n",
       "</style>\n",
       "<table border=\"1\" class=\"dataframe\">\n",
       "  <thead>\n",
       "    <tr style=\"text-align: right;\">\n",
       "      <th></th>\n",
       "      <th>index</th>\n",
       "      <th>INCIDENT_NUMBER</th>\n",
       "      <th>OFFENSE_CODE</th>\n",
       "      <th>OFFENSE_CODE_GROUP</th>\n",
       "      <th>OFFENSE_DESCRIPTION</th>\n",
       "      <th>DISTRICT</th>\n",
       "      <th>REPORTING_AREA</th>\n",
       "      <th>SHOOTING</th>\n",
       "      <th>OCCURRED_ON_DATE</th>\n",
       "      <th>YEAR</th>\n",
       "      <th>MONTH</th>\n",
       "      <th>DAY_OF_WEEK</th>\n",
       "      <th>HOUR</th>\n",
       "      <th>UCR_PART</th>\n",
       "      <th>STREET</th>\n",
       "      <th>Lat</th>\n",
       "      <th>Long</th>\n",
       "      <th>Location</th>\n",
       "    </tr>\n",
       "  </thead>\n",
       "  <tbody>\n",
       "    <tr>\n",
       "      <th>0</th>\n",
       "      <td>0</td>\n",
       "      <td>I192074488</td>\n",
       "      <td>619</td>\n",
       "      <td>Larceny</td>\n",
       "      <td>LARCENY ALL OTHERS</td>\n",
       "      <td>C11</td>\n",
       "      <td>351</td>\n",
       "      <td>NaN</td>\n",
       "      <td>2017-08-23 00:00:00</td>\n",
       "      <td>2017</td>\n",
       "      <td>8</td>\n",
       "      <td>Wednesday</td>\n",
       "      <td>0</td>\n",
       "      <td>Part One</td>\n",
       "      <td>ADAMS ST</td>\n",
       "      <td>42.300605</td>\n",
       "      <td>-71.059230</td>\n",
       "      <td>(42.30060526, -71.05923027)</td>\n",
       "    </tr>\n",
       "    <tr>\n",
       "      <th>1</th>\n",
       "      <td>1</td>\n",
       "      <td>I192073511</td>\n",
       "      <td>1107</td>\n",
       "      <td>Fraud</td>\n",
       "      <td>FRAUD - IMPERSONATION</td>\n",
       "      <td>B3</td>\n",
       "      <td>435</td>\n",
       "      <td>NaN</td>\n",
       "      <td>2017-02-21 00:01:00</td>\n",
       "      <td>2017</td>\n",
       "      <td>2</td>\n",
       "      <td>Tuesday</td>\n",
       "      <td>0</td>\n",
       "      <td>Part Two</td>\n",
       "      <td>ARMANDINE ST</td>\n",
       "      <td>42.284315</td>\n",
       "      <td>-71.074108</td>\n",
       "      <td>(42.28431486, -71.07410838)</td>\n",
       "    </tr>\n",
       "    <tr>\n",
       "      <th>2</th>\n",
       "      <td>2</td>\n",
       "      <td>I192073187</td>\n",
       "      <td>2629</td>\n",
       "      <td>Harassment</td>\n",
       "      <td>HARASSMENT</td>\n",
       "      <td>C6</td>\n",
       "      <td>231</td>\n",
       "      <td>NaN</td>\n",
       "      <td>2017-07-13 00:00:00</td>\n",
       "      <td>2017</td>\n",
       "      <td>7</td>\n",
       "      <td>Thursday</td>\n",
       "      <td>0</td>\n",
       "      <td>Part Two</td>\n",
       "      <td>E FIFTH ST</td>\n",
       "      <td>42.333989</td>\n",
       "      <td>-71.032606</td>\n",
       "      <td>(42.33398889, -71.03260574)</td>\n",
       "    </tr>\n",
       "    <tr>\n",
       "      <th>3</th>\n",
       "      <td>3</td>\n",
       "      <td>I192072907</td>\n",
       "      <td>802</td>\n",
       "      <td>Simple Assault</td>\n",
       "      <td>ASSAULT SIMPLE - BATTERY</td>\n",
       "      <td>D4</td>\n",
       "      <td>171</td>\n",
       "      <td>NaN</td>\n",
       "      <td>2017-09-01 16:32:00</td>\n",
       "      <td>2017</td>\n",
       "      <td>9</td>\n",
       "      <td>Friday</td>\n",
       "      <td>16</td>\n",
       "      <td>Part Two</td>\n",
       "      <td>HARRISON AVE</td>\n",
       "      <td>42.335119</td>\n",
       "      <td>-71.074917</td>\n",
       "      <td>(42.33511904, -71.07491710)</td>\n",
       "    </tr>\n",
       "    <tr>\n",
       "      <th>4</th>\n",
       "      <td>4</td>\n",
       "      <td>I192072900</td>\n",
       "      <td>1102</td>\n",
       "      <td>Fraud</td>\n",
       "      <td>FRAUD - FALSE PRETENSE / SCHEME</td>\n",
       "      <td>D4</td>\n",
       "      <td>151</td>\n",
       "      <td>NaN</td>\n",
       "      <td>2017-09-01 00:00:00</td>\n",
       "      <td>2017</td>\n",
       "      <td>9</td>\n",
       "      <td>Friday</td>\n",
       "      <td>0</td>\n",
       "      <td>Part Two</td>\n",
       "      <td>WARREN AVE</td>\n",
       "      <td>42.345163</td>\n",
       "      <td>-71.071291</td>\n",
       "      <td>(42.34516350, -71.07129114)</td>\n",
       "    </tr>\n",
       "    <tr>\n",
       "      <th>...</th>\n",
       "      <td>...</td>\n",
       "      <td>...</td>\n",
       "      <td>...</td>\n",
       "      <td>...</td>\n",
       "      <td>...</td>\n",
       "      <td>...</td>\n",
       "      <td>...</td>\n",
       "      <td>...</td>\n",
       "      <td>...</td>\n",
       "      <td>...</td>\n",
       "      <td>...</td>\n",
       "      <td>...</td>\n",
       "      <td>...</td>\n",
       "      <td>...</td>\n",
       "      <td>...</td>\n",
       "      <td>...</td>\n",
       "      <td>...</td>\n",
       "      <td>...</td>\n",
       "    </tr>\n",
       "    <tr>\n",
       "      <th>354374</th>\n",
       "      <td>61696</td>\n",
       "      <td>121005808</td>\n",
       "      <td>1102</td>\n",
       "      <td>NaN</td>\n",
       "      <td>FRAUD - FALSE PRETENSE / SCHEME</td>\n",
       "      <td>B3</td>\n",
       "      <td>289</td>\n",
       "      <td>0</td>\n",
       "      <td>2021-01-19 12:00:00</td>\n",
       "      <td>2021</td>\n",
       "      <td>1</td>\n",
       "      <td>Tuesday</td>\n",
       "      <td>12</td>\n",
       "      <td>NaN</td>\n",
       "      <td>CLARKWOOD ST</td>\n",
       "      <td>42.333679</td>\n",
       "      <td>-71.091878</td>\n",
       "      <td>(42.3336792181085, -71.0918775461846)</td>\n",
       "    </tr>\n",
       "    <tr>\n",
       "      <th>354375</th>\n",
       "      <td>61697</td>\n",
       "      <td>121000816</td>\n",
       "      <td>3304</td>\n",
       "      <td>NaN</td>\n",
       "      <td>NOISY PARTY/RADIO-NO ARREST</td>\n",
       "      <td>E5</td>\n",
       "      <td>675</td>\n",
       "      <td>0</td>\n",
       "      <td>2021-01-04 00:00:00</td>\n",
       "      <td>2021</td>\n",
       "      <td>1</td>\n",
       "      <td>Monday</td>\n",
       "      <td>0</td>\n",
       "      <td>NaN</td>\n",
       "      <td>BRADFIELD AVENUE</td>\n",
       "      <td>0.000000</td>\n",
       "      <td>0.000000</td>\n",
       "      <td>(0, 0)</td>\n",
       "    </tr>\n",
       "    <tr>\n",
       "      <th>354376</th>\n",
       "      <td>61698</td>\n",
       "      <td>120221042</td>\n",
       "      <td>3006</td>\n",
       "      <td>NaN</td>\n",
       "      <td>SICK/INJURED/MEDICAL - PERSON</td>\n",
       "      <td>E5</td>\n",
       "      <td>680</td>\n",
       "      <td>0</td>\n",
       "      <td>2021-04-02 10:45:00</td>\n",
       "      <td>2021</td>\n",
       "      <td>4</td>\n",
       "      <td>Friday</td>\n",
       "      <td>10</td>\n",
       "      <td>NaN</td>\n",
       "      <td>WASHINGTON ST</td>\n",
       "      <td>42.283902</td>\n",
       "      <td>-71.130863</td>\n",
       "      <td>(42.2839024364831, -71.130862626435)</td>\n",
       "    </tr>\n",
       "    <tr>\n",
       "      <th>354377</th>\n",
       "      <td>61699</td>\n",
       "      <td>10637224</td>\n",
       "      <td>3125</td>\n",
       "      <td>NaN</td>\n",
       "      <td>WARRANT ARREST - BOSTON WARRANT (MUST BE SUPPL...</td>\n",
       "      <td>D4</td>\n",
       "      <td>270</td>\n",
       "      <td>0</td>\n",
       "      <td>2021-01-26 18:54:00</td>\n",
       "      <td>2021</td>\n",
       "      <td>1</td>\n",
       "      <td>Tuesday</td>\n",
       "      <td>18</td>\n",
       "      <td>NaN</td>\n",
       "      <td>NORTHAMPTON ST</td>\n",
       "      <td>42.333951</td>\n",
       "      <td>-71.075389</td>\n",
       "      <td>(42.3339512483938, -71.0753893882269)</td>\n",
       "    </tr>\n",
       "    <tr>\n",
       "      <th>354378</th>\n",
       "      <td>61700</td>\n",
       "      <td>23844463</td>\n",
       "      <td>3115</td>\n",
       "      <td>NaN</td>\n",
       "      <td>INVESTIGATE PERSON</td>\n",
       "      <td>C6</td>\n",
       "      <td></td>\n",
       "      <td>0</td>\n",
       "      <td>2021-10-16 01:16:00</td>\n",
       "      <td>2021</td>\n",
       "      <td>10</td>\n",
       "      <td>Saturday</td>\n",
       "      <td>1</td>\n",
       "      <td>NaN</td>\n",
       "      <td>G ST &amp; E 8TH ST\\nBOSTON  MA 02127\\nUNITED STATES</td>\n",
       "      <td>42.331320</td>\n",
       "      <td>-71.044080</td>\n",
       "      <td>(42.3313200390092, -71.0440799616656)</td>\n",
       "    </tr>\n",
       "  </tbody>\n",
       "</table>\n",
       "<p>354379 rows × 18 columns</p>\n",
       "</div>"
      ],
      "text/plain": [
       "        index INCIDENT_NUMBER  OFFENSE_CODE OFFENSE_CODE_GROUP  \\\n",
       "0           0      I192074488           619            Larceny   \n",
       "1           1      I192073511          1107              Fraud   \n",
       "2           2      I192073187          2629         Harassment   \n",
       "3           3      I192072907           802     Simple Assault   \n",
       "4           4      I192072900          1102              Fraud   \n",
       "...       ...             ...           ...                ...   \n",
       "354374  61696       121005808          1102                NaN   \n",
       "354375  61697       121000816          3304                NaN   \n",
       "354376  61698       120221042          3006                NaN   \n",
       "354377  61699        10637224          3125                NaN   \n",
       "354378  61700        23844463          3115                NaN   \n",
       "\n",
       "                                      OFFENSE_DESCRIPTION DISTRICT  \\\n",
       "0                                      LARCENY ALL OTHERS      C11   \n",
       "1                                   FRAUD - IMPERSONATION       B3   \n",
       "2                                              HARASSMENT       C6   \n",
       "3                                ASSAULT SIMPLE - BATTERY       D4   \n",
       "4                         FRAUD - FALSE PRETENSE / SCHEME       D4   \n",
       "...                                                   ...      ...   \n",
       "354374                    FRAUD - FALSE PRETENSE / SCHEME       B3   \n",
       "354375                        NOISY PARTY/RADIO-NO ARREST       E5   \n",
       "354376                      SICK/INJURED/MEDICAL - PERSON       E5   \n",
       "354377  WARRANT ARREST - BOSTON WARRANT (MUST BE SUPPL...       D4   \n",
       "354378                                 INVESTIGATE PERSON       C6   \n",
       "\n",
       "       REPORTING_AREA SHOOTING     OCCURRED_ON_DATE  YEAR  MONTH DAY_OF_WEEK  \\\n",
       "0                 351      NaN  2017-08-23 00:00:00  2017      8   Wednesday   \n",
       "1                 435      NaN  2017-02-21 00:01:00  2017      2     Tuesday   \n",
       "2                 231      NaN  2017-07-13 00:00:00  2017      7    Thursday   \n",
       "3                 171      NaN  2017-09-01 16:32:00  2017      9      Friday   \n",
       "4                 151      NaN  2017-09-01 00:00:00  2017      9      Friday   \n",
       "...               ...      ...                  ...   ...    ...         ...   \n",
       "354374            289        0  2021-01-19 12:00:00  2021      1     Tuesday   \n",
       "354375            675        0  2021-01-04 00:00:00  2021      1      Monday   \n",
       "354376            680        0  2021-04-02 10:45:00  2021      4      Friday   \n",
       "354377            270        0  2021-01-26 18:54:00  2021      1     Tuesday   \n",
       "354378                       0  2021-10-16 01:16:00  2021     10    Saturday   \n",
       "\n",
       "        HOUR  UCR_PART                                            STREET  \\\n",
       "0          0  Part One                                          ADAMS ST   \n",
       "1          0  Part Two                                      ARMANDINE ST   \n",
       "2          0  Part Two                                        E FIFTH ST   \n",
       "3         16  Part Two                                      HARRISON AVE   \n",
       "4          0  Part Two                                        WARREN AVE   \n",
       "...      ...       ...                                               ...   \n",
       "354374    12       NaN                                      CLARKWOOD ST   \n",
       "354375     0       NaN                                  BRADFIELD AVENUE   \n",
       "354376    10       NaN                                     WASHINGTON ST   \n",
       "354377    18       NaN                                    NORTHAMPTON ST   \n",
       "354378     1       NaN  G ST & E 8TH ST\\nBOSTON  MA 02127\\nUNITED STATES   \n",
       "\n",
       "              Lat       Long                               Location  \n",
       "0       42.300605 -71.059230            (42.30060526, -71.05923027)  \n",
       "1       42.284315 -71.074108            (42.28431486, -71.07410838)  \n",
       "2       42.333989 -71.032606            (42.33398889, -71.03260574)  \n",
       "3       42.335119 -71.074917            (42.33511904, -71.07491710)  \n",
       "4       42.345163 -71.071291            (42.34516350, -71.07129114)  \n",
       "...           ...        ...                                    ...  \n",
       "354374  42.333679 -71.091878  (42.3336792181085, -71.0918775461846)  \n",
       "354375   0.000000   0.000000                                 (0, 0)  \n",
       "354376  42.283902 -71.130863   (42.2839024364831, -71.130862626435)  \n",
       "354377  42.333951 -71.075389  (42.3339512483938, -71.0753893882269)  \n",
       "354378  42.331320 -71.044080  (42.3313200390092, -71.0440799616656)  \n",
       "\n",
       "[354379 rows x 18 columns]"
      ]
     },
     "execution_count": 114,
     "metadata": {},
     "output_type": "execute_result"
    }
   ],
   "source": [
    "crime_2017 = pd.read_csv('crime-incident-reports-2017.csv')\n",
    "crime_2018 = pd.read_csv('crime-incident-reports-2018.csv')\n",
    "crime_2019 = pd.read_csv('crime-incident-report-2019.csv')\n",
    "crime_2020 = pd.read_csv('crime-incident-report-2020.csv')\n",
    "crime_2021 = pd.read_csv('crime-incident-report-2021.csv')\n",
    "crime_all = pd.concat([crime_2017,crime_2018,crime_2019,crime_2020,crime_2021])\n",
    "crime_all.reset_index()"
   ]
  },
  {
   "cell_type": "code",
   "execution_count": 115,
   "id": "c4e41923",
   "metadata": {},
   "outputs": [
    {
     "data": {
      "text/html": [
       "<div>\n",
       "<style scoped>\n",
       "    .dataframe tbody tr th:only-of-type {\n",
       "        vertical-align: middle;\n",
       "    }\n",
       "\n",
       "    .dataframe tbody tr th {\n",
       "        vertical-align: top;\n",
       "    }\n",
       "\n",
       "    .dataframe thead th {\n",
       "        text-align: right;\n",
       "    }\n",
       "</style>\n",
       "<table border=\"1\" class=\"dataframe\">\n",
       "  <thead>\n",
       "    <tr style=\"text-align: right;\">\n",
       "      <th></th>\n",
       "      <th>INCIDENT_NUMBER</th>\n",
       "      <th>OFFENSE_CODE</th>\n",
       "      <th>OFFENSE_CODE_GROUP</th>\n",
       "      <th>OFFENSE_DESCRIPTION</th>\n",
       "      <th>DISTRICT</th>\n",
       "      <th>REPORTING_AREA</th>\n",
       "      <th>SHOOTING</th>\n",
       "      <th>OCCURRED_ON_DATE</th>\n",
       "      <th>YEAR</th>\n",
       "      <th>MONTH</th>\n",
       "      <th>DAY_OF_WEEK</th>\n",
       "      <th>HOUR</th>\n",
       "      <th>UCR_PART</th>\n",
       "      <th>STREET</th>\n",
       "      <th>Lat</th>\n",
       "      <th>Long</th>\n",
       "      <th>Location</th>\n",
       "    </tr>\n",
       "  </thead>\n",
       "  <tbody>\n",
       "    <tr>\n",
       "      <th>0</th>\n",
       "      <td>I192074488</td>\n",
       "      <td>619</td>\n",
       "      <td>Larceny</td>\n",
       "      <td>LARCENY ALL OTHERS</td>\n",
       "      <td>C11</td>\n",
       "      <td>351</td>\n",
       "      <td>NaN</td>\n",
       "      <td>2017-08-23 00:00:00</td>\n",
       "      <td>2017</td>\n",
       "      <td>8</td>\n",
       "      <td>Wednesday</td>\n",
       "      <td>0</td>\n",
       "      <td>Part One</td>\n",
       "      <td>ADAMS ST</td>\n",
       "      <td>42.300605</td>\n",
       "      <td>-71.059230</td>\n",
       "      <td>(42.30060526, -71.05923027)</td>\n",
       "    </tr>\n",
       "    <tr>\n",
       "      <th>1</th>\n",
       "      <td>I192073511</td>\n",
       "      <td>1107</td>\n",
       "      <td>Fraud</td>\n",
       "      <td>FRAUD - IMPERSONATION</td>\n",
       "      <td>B3</td>\n",
       "      <td>435</td>\n",
       "      <td>NaN</td>\n",
       "      <td>2017-02-21 00:01:00</td>\n",
       "      <td>2017</td>\n",
       "      <td>2</td>\n",
       "      <td>Tuesday</td>\n",
       "      <td>0</td>\n",
       "      <td>Part Two</td>\n",
       "      <td>ARMANDINE ST</td>\n",
       "      <td>42.284315</td>\n",
       "      <td>-71.074108</td>\n",
       "      <td>(42.28431486, -71.07410838)</td>\n",
       "    </tr>\n",
       "    <tr>\n",
       "      <th>2</th>\n",
       "      <td>I192073187</td>\n",
       "      <td>2629</td>\n",
       "      <td>Harassment</td>\n",
       "      <td>HARASSMENT</td>\n",
       "      <td>C6</td>\n",
       "      <td>231</td>\n",
       "      <td>NaN</td>\n",
       "      <td>2017-07-13 00:00:00</td>\n",
       "      <td>2017</td>\n",
       "      <td>7</td>\n",
       "      <td>Thursday</td>\n",
       "      <td>0</td>\n",
       "      <td>Part Two</td>\n",
       "      <td>E FIFTH ST</td>\n",
       "      <td>42.333989</td>\n",
       "      <td>-71.032606</td>\n",
       "      <td>(42.33398889, -71.03260574)</td>\n",
       "    </tr>\n",
       "    <tr>\n",
       "      <th>3</th>\n",
       "      <td>I192072907</td>\n",
       "      <td>802</td>\n",
       "      <td>Simple Assault</td>\n",
       "      <td>ASSAULT SIMPLE - BATTERY</td>\n",
       "      <td>D4</td>\n",
       "      <td>171</td>\n",
       "      <td>NaN</td>\n",
       "      <td>2017-09-01 16:32:00</td>\n",
       "      <td>2017</td>\n",
       "      <td>9</td>\n",
       "      <td>Friday</td>\n",
       "      <td>16</td>\n",
       "      <td>Part Two</td>\n",
       "      <td>HARRISON AVE</td>\n",
       "      <td>42.335119</td>\n",
       "      <td>-71.074917</td>\n",
       "      <td>(42.33511904, -71.07491710)</td>\n",
       "    </tr>\n",
       "    <tr>\n",
       "      <th>4</th>\n",
       "      <td>I192072900</td>\n",
       "      <td>1102</td>\n",
       "      <td>Fraud</td>\n",
       "      <td>FRAUD - FALSE PRETENSE / SCHEME</td>\n",
       "      <td>D4</td>\n",
       "      <td>151</td>\n",
       "      <td>NaN</td>\n",
       "      <td>2017-09-01 00:00:00</td>\n",
       "      <td>2017</td>\n",
       "      <td>9</td>\n",
       "      <td>Friday</td>\n",
       "      <td>0</td>\n",
       "      <td>Part Two</td>\n",
       "      <td>WARREN AVE</td>\n",
       "      <td>42.345163</td>\n",
       "      <td>-71.071291</td>\n",
       "      <td>(42.34516350, -71.07129114)</td>\n",
       "    </tr>\n",
       "  </tbody>\n",
       "</table>\n",
       "</div>"
      ],
      "text/plain": [
       "  INCIDENT_NUMBER  OFFENSE_CODE OFFENSE_CODE_GROUP  \\\n",
       "0      I192074488           619            Larceny   \n",
       "1      I192073511          1107              Fraud   \n",
       "2      I192073187          2629         Harassment   \n",
       "3      I192072907           802     Simple Assault   \n",
       "4      I192072900          1102              Fraud   \n",
       "\n",
       "               OFFENSE_DESCRIPTION DISTRICT REPORTING_AREA SHOOTING  \\\n",
       "0               LARCENY ALL OTHERS      C11            351      NaN   \n",
       "1            FRAUD - IMPERSONATION       B3            435      NaN   \n",
       "2                       HARASSMENT       C6            231      NaN   \n",
       "3         ASSAULT SIMPLE - BATTERY       D4            171      NaN   \n",
       "4  FRAUD - FALSE PRETENSE / SCHEME       D4            151      NaN   \n",
       "\n",
       "      OCCURRED_ON_DATE  YEAR  MONTH DAY_OF_WEEK  HOUR  UCR_PART        STREET  \\\n",
       "0  2017-08-23 00:00:00  2017      8   Wednesday     0  Part One      ADAMS ST   \n",
       "1  2017-02-21 00:01:00  2017      2     Tuesday     0  Part Two  ARMANDINE ST   \n",
       "2  2017-07-13 00:00:00  2017      7    Thursday     0  Part Two    E FIFTH ST   \n",
       "3  2017-09-01 16:32:00  2017      9      Friday    16  Part Two  HARRISON AVE   \n",
       "4  2017-09-01 00:00:00  2017      9      Friday     0  Part Two    WARREN AVE   \n",
       "\n",
       "         Lat       Long                     Location  \n",
       "0  42.300605 -71.059230  (42.30060526, -71.05923027)  \n",
       "1  42.284315 -71.074108  (42.28431486, -71.07410838)  \n",
       "2  42.333989 -71.032606  (42.33398889, -71.03260574)  \n",
       "3  42.335119 -71.074917  (42.33511904, -71.07491710)  \n",
       "4  42.345163 -71.071291  (42.34516350, -71.07129114)  "
      ]
     },
     "execution_count": 115,
     "metadata": {},
     "output_type": "execute_result"
    }
   ],
   "source": [
    "crime_all.head(5)"
   ]
  },
  {
   "cell_type": "markdown",
   "id": "fbc1a091",
   "metadata": {},
   "source": [
    "ALL five datasets have the same columns."
   ]
  },
  {
   "cell_type": "code",
   "execution_count": 116,
   "id": "0e54deb8",
   "metadata": {
    "scrolled": true
   },
   "outputs": [
    {
     "data": {
      "text/plain": [
       "Index(['INCIDENT_NUMBER', 'OFFENSE_CODE', 'OFFENSE_CODE_GROUP',\n",
       "       'OFFENSE_DESCRIPTION', 'DISTRICT', 'REPORTING_AREA', 'SHOOTING',\n",
       "       'OCCURRED_ON_DATE', 'YEAR', 'MONTH', 'DAY_OF_WEEK', 'HOUR', 'UCR_PART',\n",
       "       'STREET', 'Lat', 'Long', 'Location'],\n",
       "      dtype='object')"
      ]
     },
     "execution_count": 116,
     "metadata": {},
     "output_type": "execute_result"
    }
   ],
   "source": [
    "crime_all.columns"
   ]
  },
  {
   "cell_type": "code",
   "execution_count": 117,
   "id": "c7ca989c",
   "metadata": {},
   "outputs": [
    {
     "data": {
      "text/plain": [
       "INCIDENT_NUMBER         object\n",
       "OFFENSE_CODE             int64\n",
       "OFFENSE_CODE_GROUP      object\n",
       "OFFENSE_DESCRIPTION     object\n",
       "DISTRICT                object\n",
       "REPORTING_AREA          object\n",
       "SHOOTING                object\n",
       "OCCURRED_ON_DATE        object\n",
       "YEAR                     int64\n",
       "MONTH                    int64\n",
       "DAY_OF_WEEK             object\n",
       "HOUR                     int64\n",
       "UCR_PART                object\n",
       "STREET                  object\n",
       "Lat                    float64\n",
       "Long                   float64\n",
       "Location                object\n",
       "dtype: object"
      ]
     },
     "execution_count": 117,
     "metadata": {},
     "output_type": "execute_result"
    }
   ],
   "source": [
    "crime_all.dtypes"
   ]
  },
  {
   "cell_type": "code",
   "execution_count": 118,
   "id": "cb264c0d",
   "metadata": {},
   "outputs": [
    {
     "data": {
      "text/plain": [
       "INCIDENT_NUMBER             0\n",
       "OFFENSE_CODE                0\n",
       "OFFENSE_CODE_GROUP     154153\n",
       "OFFENSE_DESCRIPTION         0\n",
       "DISTRICT                 3205\n",
       "REPORTING_AREA              0\n",
       "SHOOTING               199367\n",
       "OCCURRED_ON_DATE            0\n",
       "YEAR                        0\n",
       "MONTH                       0\n",
       "DAY_OF_WEEK                 0\n",
       "HOUR                        0\n",
       "UCR_PART               154212\n",
       "STREET                   5002\n",
       "Lat                     13458\n",
       "Long                    13458\n",
       "Location                    0\n",
       "dtype: int64"
      ]
     },
     "execution_count": 118,
     "metadata": {},
     "output_type": "execute_result"
    }
   ],
   "source": [
    "crime_all.isnull().sum()"
   ]
  },
  {
   "cell_type": "code",
   "execution_count": 119,
   "id": "77100949",
   "metadata": {},
   "outputs": [
    {
     "name": "stdout",
     "output_type": "stream",
     "text": [
      "The whole dw has 354379 rows and 17 columns.\n"
     ]
    }
   ],
   "source": [
    "crime_all.shape\n",
    "print('The whole dw has ' + str(crime_all.shape[0]) + ' rows and ' + str(crime_all.shape[1]) + ' columns.')"
   ]
  },
  {
   "cell_type": "code",
   "execution_count": null,
   "id": "84ae3885",
   "metadata": {},
   "outputs": [],
   "source": []
  },
  {
   "cell_type": "code",
   "execution_count": 120,
   "id": "c3255314",
   "metadata": {},
   "outputs": [
    {
     "data": {
      "text/plain": [
       "I172053750       18\n",
       "I182051210       14\n",
       "I182093742       12\n",
       "I182044546       12\n",
       "I070720870-00    11\n",
       "                 ..\n",
       "I182073358        1\n",
       "I182073359        1\n",
       "I182073360        1\n",
       "I182073361        1\n",
       "23844463          1\n",
       "Name: INCIDENT_NUMBER, Length: 330373, dtype: int64"
      ]
     },
     "execution_count": 120,
     "metadata": {},
     "output_type": "execute_result"
    }
   ],
   "source": [
    "crime_all['INCIDENT_NUMBER'].value_counts()"
   ]
  },
  {
   "cell_type": "code",
   "execution_count": 121,
   "id": "e87b0c06",
   "metadata": {},
   "outputs": [
    {
     "data": {
      "text/html": [
       "<div>\n",
       "<style scoped>\n",
       "    .dataframe tbody tr th:only-of-type {\n",
       "        vertical-align: middle;\n",
       "    }\n",
       "\n",
       "    .dataframe tbody tr th {\n",
       "        vertical-align: top;\n",
       "    }\n",
       "\n",
       "    .dataframe thead th {\n",
       "        text-align: right;\n",
       "    }\n",
       "</style>\n",
       "<table border=\"1\" class=\"dataframe\">\n",
       "  <thead>\n",
       "    <tr style=\"text-align: right;\">\n",
       "      <th></th>\n",
       "      <th>INCIDENT_NUMBER</th>\n",
       "      <th>OFFENSE_CODE</th>\n",
       "      <th>OFFENSE_CODE_GROUP</th>\n",
       "      <th>OFFENSE_DESCRIPTION</th>\n",
       "      <th>DISTRICT</th>\n",
       "      <th>REPORTING_AREA</th>\n",
       "      <th>SHOOTING</th>\n",
       "      <th>OCCURRED_ON_DATE</th>\n",
       "      <th>YEAR</th>\n",
       "      <th>MONTH</th>\n",
       "      <th>DAY_OF_WEEK</th>\n",
       "      <th>HOUR</th>\n",
       "      <th>UCR_PART</th>\n",
       "      <th>STREET</th>\n",
       "      <th>Lat</th>\n",
       "      <th>Long</th>\n",
       "      <th>Location</th>\n",
       "    </tr>\n",
       "  </thead>\n",
       "  <tbody>\n",
       "    <tr>\n",
       "      <th>57175</th>\n",
       "      <td>I182044546</td>\n",
       "      <td>423</td>\n",
       "      <td>Aggravated Assault</td>\n",
       "      <td>ASSAULT - AGGRAVATED</td>\n",
       "      <td>B2</td>\n",
       "      <td>265</td>\n",
       "      <td>Y</td>\n",
       "      <td>2018-06-09 00:08:00</td>\n",
       "      <td>2018</td>\n",
       "      <td>6</td>\n",
       "      <td>Saturday</td>\n",
       "      <td>0</td>\n",
       "      <td>Part One</td>\n",
       "      <td>COPELAND ST</td>\n",
       "      <td>42.321948</td>\n",
       "      <td>-71.081384</td>\n",
       "      <td>(42.32194840, -71.08138427)</td>\n",
       "    </tr>\n",
       "    <tr>\n",
       "      <th>57176</th>\n",
       "      <td>I182044546</td>\n",
       "      <td>423</td>\n",
       "      <td>Aggravated Assault</td>\n",
       "      <td>ASSAULT - AGGRAVATED</td>\n",
       "      <td>B2</td>\n",
       "      <td>265</td>\n",
       "      <td>Y</td>\n",
       "      <td>2018-06-09 00:08:00</td>\n",
       "      <td>2018</td>\n",
       "      <td>6</td>\n",
       "      <td>Saturday</td>\n",
       "      <td>0</td>\n",
       "      <td>Part One</td>\n",
       "      <td>COPELAND ST</td>\n",
       "      <td>42.321948</td>\n",
       "      <td>-71.081384</td>\n",
       "      <td>(42.32194840, -71.08138427)</td>\n",
       "    </tr>\n",
       "    <tr>\n",
       "      <th>57177</th>\n",
       "      <td>I182044546</td>\n",
       "      <td>423</td>\n",
       "      <td>Aggravated Assault</td>\n",
       "      <td>ASSAULT - AGGRAVATED</td>\n",
       "      <td>B2</td>\n",
       "      <td>265</td>\n",
       "      <td>Y</td>\n",
       "      <td>2018-06-09 00:08:00</td>\n",
       "      <td>2018</td>\n",
       "      <td>6</td>\n",
       "      <td>Saturday</td>\n",
       "      <td>0</td>\n",
       "      <td>Part One</td>\n",
       "      <td>COPELAND ST</td>\n",
       "      <td>42.321948</td>\n",
       "      <td>-71.081384</td>\n",
       "      <td>(42.32194840, -71.08138427)</td>\n",
       "    </tr>\n",
       "    <tr>\n",
       "      <th>57178</th>\n",
       "      <td>I182044546</td>\n",
       "      <td>423</td>\n",
       "      <td>Aggravated Assault</td>\n",
       "      <td>ASSAULT - AGGRAVATED</td>\n",
       "      <td>B2</td>\n",
       "      <td>265</td>\n",
       "      <td>Y</td>\n",
       "      <td>2018-06-09 00:08:00</td>\n",
       "      <td>2018</td>\n",
       "      <td>6</td>\n",
       "      <td>Saturday</td>\n",
       "      <td>0</td>\n",
       "      <td>Part One</td>\n",
       "      <td>COPELAND ST</td>\n",
       "      <td>42.321948</td>\n",
       "      <td>-71.081384</td>\n",
       "      <td>(42.32194840, -71.08138427)</td>\n",
       "    </tr>\n",
       "    <tr>\n",
       "      <th>57179</th>\n",
       "      <td>I182044546</td>\n",
       "      <td>3114</td>\n",
       "      <td>Investigate Property</td>\n",
       "      <td>INVESTIGATE PROPERTY</td>\n",
       "      <td>B2</td>\n",
       "      <td>265</td>\n",
       "      <td>Y</td>\n",
       "      <td>2018-06-09 00:08:00</td>\n",
       "      <td>2018</td>\n",
       "      <td>6</td>\n",
       "      <td>Saturday</td>\n",
       "      <td>0</td>\n",
       "      <td>Part Three</td>\n",
       "      <td>COPELAND ST</td>\n",
       "      <td>42.321948</td>\n",
       "      <td>-71.081384</td>\n",
       "      <td>(42.32194840, -71.08138427)</td>\n",
       "    </tr>\n",
       "    <tr>\n",
       "      <th>57180</th>\n",
       "      <td>I182044546</td>\n",
       "      <td>3114</td>\n",
       "      <td>Investigate Property</td>\n",
       "      <td>INVESTIGATE PROPERTY</td>\n",
       "      <td>B2</td>\n",
       "      <td>265</td>\n",
       "      <td>Y</td>\n",
       "      <td>2018-06-09 00:08:00</td>\n",
       "      <td>2018</td>\n",
       "      <td>6</td>\n",
       "      <td>Saturday</td>\n",
       "      <td>0</td>\n",
       "      <td>Part Three</td>\n",
       "      <td>COPELAND ST</td>\n",
       "      <td>42.321948</td>\n",
       "      <td>-71.081384</td>\n",
       "      <td>(42.32194840, -71.08138427)</td>\n",
       "    </tr>\n",
       "    <tr>\n",
       "      <th>57181</th>\n",
       "      <td>I182044546</td>\n",
       "      <td>3114</td>\n",
       "      <td>Investigate Property</td>\n",
       "      <td>INVESTIGATE PROPERTY</td>\n",
       "      <td>B2</td>\n",
       "      <td>265</td>\n",
       "      <td>Y</td>\n",
       "      <td>2018-06-09 00:08:00</td>\n",
       "      <td>2018</td>\n",
       "      <td>6</td>\n",
       "      <td>Saturday</td>\n",
       "      <td>0</td>\n",
       "      <td>Part Three</td>\n",
       "      <td>COPELAND ST</td>\n",
       "      <td>42.321948</td>\n",
       "      <td>-71.081384</td>\n",
       "      <td>(42.32194840, -71.08138427)</td>\n",
       "    </tr>\n",
       "    <tr>\n",
       "      <th>57182</th>\n",
       "      <td>I182044546</td>\n",
       "      <td>3114</td>\n",
       "      <td>Investigate Property</td>\n",
       "      <td>INVESTIGATE PROPERTY</td>\n",
       "      <td>B2</td>\n",
       "      <td>265</td>\n",
       "      <td>Y</td>\n",
       "      <td>2018-06-09 00:08:00</td>\n",
       "      <td>2018</td>\n",
       "      <td>6</td>\n",
       "      <td>Saturday</td>\n",
       "      <td>0</td>\n",
       "      <td>Part Three</td>\n",
       "      <td>COPELAND ST</td>\n",
       "      <td>42.321948</td>\n",
       "      <td>-71.081384</td>\n",
       "      <td>(42.32194840, -71.08138427)</td>\n",
       "    </tr>\n",
       "    <tr>\n",
       "      <th>57183</th>\n",
       "      <td>I182044546</td>\n",
       "      <td>413</td>\n",
       "      <td>Aggravated Assault</td>\n",
       "      <td>ASSAULT - AGGRAVATED - BATTERY</td>\n",
       "      <td>B2</td>\n",
       "      <td>265</td>\n",
       "      <td>Y</td>\n",
       "      <td>2018-06-09 00:08:00</td>\n",
       "      <td>2018</td>\n",
       "      <td>6</td>\n",
       "      <td>Saturday</td>\n",
       "      <td>0</td>\n",
       "      <td>Part One</td>\n",
       "      <td>COPELAND ST</td>\n",
       "      <td>42.321948</td>\n",
       "      <td>-71.081384</td>\n",
       "      <td>(42.32194840, -71.08138427)</td>\n",
       "    </tr>\n",
       "    <tr>\n",
       "      <th>57184</th>\n",
       "      <td>I182044546</td>\n",
       "      <td>413</td>\n",
       "      <td>Aggravated Assault</td>\n",
       "      <td>ASSAULT - AGGRAVATED - BATTERY</td>\n",
       "      <td>B2</td>\n",
       "      <td>265</td>\n",
       "      <td>Y</td>\n",
       "      <td>2018-06-09 00:08:00</td>\n",
       "      <td>2018</td>\n",
       "      <td>6</td>\n",
       "      <td>Saturday</td>\n",
       "      <td>0</td>\n",
       "      <td>Part One</td>\n",
       "      <td>COPELAND ST</td>\n",
       "      <td>42.321948</td>\n",
       "      <td>-71.081384</td>\n",
       "      <td>(42.32194840, -71.08138427)</td>\n",
       "    </tr>\n",
       "    <tr>\n",
       "      <th>57185</th>\n",
       "      <td>I182044546</td>\n",
       "      <td>413</td>\n",
       "      <td>Aggravated Assault</td>\n",
       "      <td>ASSAULT - AGGRAVATED - BATTERY</td>\n",
       "      <td>B2</td>\n",
       "      <td>265</td>\n",
       "      <td>Y</td>\n",
       "      <td>2018-06-09 00:08:00</td>\n",
       "      <td>2018</td>\n",
       "      <td>6</td>\n",
       "      <td>Saturday</td>\n",
       "      <td>0</td>\n",
       "      <td>Part One</td>\n",
       "      <td>COPELAND ST</td>\n",
       "      <td>42.321948</td>\n",
       "      <td>-71.081384</td>\n",
       "      <td>(42.32194840, -71.08138427)</td>\n",
       "    </tr>\n",
       "    <tr>\n",
       "      <th>57186</th>\n",
       "      <td>I182044546</td>\n",
       "      <td>413</td>\n",
       "      <td>Aggravated Assault</td>\n",
       "      <td>ASSAULT - AGGRAVATED - BATTERY</td>\n",
       "      <td>B2</td>\n",
       "      <td>265</td>\n",
       "      <td>Y</td>\n",
       "      <td>2018-06-09 00:08:00</td>\n",
       "      <td>2018</td>\n",
       "      <td>6</td>\n",
       "      <td>Saturday</td>\n",
       "      <td>0</td>\n",
       "      <td>Part One</td>\n",
       "      <td>COPELAND ST</td>\n",
       "      <td>42.321948</td>\n",
       "      <td>-71.081384</td>\n",
       "      <td>(42.32194840, -71.08138427)</td>\n",
       "    </tr>\n",
       "  </tbody>\n",
       "</table>\n",
       "</div>"
      ],
      "text/plain": [
       "      INCIDENT_NUMBER  OFFENSE_CODE    OFFENSE_CODE_GROUP  \\\n",
       "57175      I182044546           423    Aggravated Assault   \n",
       "57176      I182044546           423    Aggravated Assault   \n",
       "57177      I182044546           423    Aggravated Assault   \n",
       "57178      I182044546           423    Aggravated Assault   \n",
       "57179      I182044546          3114  Investigate Property   \n",
       "57180      I182044546          3114  Investigate Property   \n",
       "57181      I182044546          3114  Investigate Property   \n",
       "57182      I182044546          3114  Investigate Property   \n",
       "57183      I182044546           413    Aggravated Assault   \n",
       "57184      I182044546           413    Aggravated Assault   \n",
       "57185      I182044546           413    Aggravated Assault   \n",
       "57186      I182044546           413    Aggravated Assault   \n",
       "\n",
       "                  OFFENSE_DESCRIPTION DISTRICT REPORTING_AREA SHOOTING  \\\n",
       "57175            ASSAULT - AGGRAVATED       B2            265        Y   \n",
       "57176            ASSAULT - AGGRAVATED       B2            265        Y   \n",
       "57177            ASSAULT - AGGRAVATED       B2            265        Y   \n",
       "57178            ASSAULT - AGGRAVATED       B2            265        Y   \n",
       "57179            INVESTIGATE PROPERTY       B2            265        Y   \n",
       "57180            INVESTIGATE PROPERTY       B2            265        Y   \n",
       "57181            INVESTIGATE PROPERTY       B2            265        Y   \n",
       "57182            INVESTIGATE PROPERTY       B2            265        Y   \n",
       "57183  ASSAULT - AGGRAVATED - BATTERY       B2            265        Y   \n",
       "57184  ASSAULT - AGGRAVATED - BATTERY       B2            265        Y   \n",
       "57185  ASSAULT - AGGRAVATED - BATTERY       B2            265        Y   \n",
       "57186  ASSAULT - AGGRAVATED - BATTERY       B2            265        Y   \n",
       "\n",
       "          OCCURRED_ON_DATE  YEAR  MONTH DAY_OF_WEEK  HOUR    UCR_PART  \\\n",
       "57175  2018-06-09 00:08:00  2018      6    Saturday     0    Part One   \n",
       "57176  2018-06-09 00:08:00  2018      6    Saturday     0    Part One   \n",
       "57177  2018-06-09 00:08:00  2018      6    Saturday     0    Part One   \n",
       "57178  2018-06-09 00:08:00  2018      6    Saturday     0    Part One   \n",
       "57179  2018-06-09 00:08:00  2018      6    Saturday     0  Part Three   \n",
       "57180  2018-06-09 00:08:00  2018      6    Saturday     0  Part Three   \n",
       "57181  2018-06-09 00:08:00  2018      6    Saturday     0  Part Three   \n",
       "57182  2018-06-09 00:08:00  2018      6    Saturday     0  Part Three   \n",
       "57183  2018-06-09 00:08:00  2018      6    Saturday     0    Part One   \n",
       "57184  2018-06-09 00:08:00  2018      6    Saturday     0    Part One   \n",
       "57185  2018-06-09 00:08:00  2018      6    Saturday     0    Part One   \n",
       "57186  2018-06-09 00:08:00  2018      6    Saturday     0    Part One   \n",
       "\n",
       "            STREET        Lat       Long                     Location  \n",
       "57175  COPELAND ST  42.321948 -71.081384  (42.32194840, -71.08138427)  \n",
       "57176  COPELAND ST  42.321948 -71.081384  (42.32194840, -71.08138427)  \n",
       "57177  COPELAND ST  42.321948 -71.081384  (42.32194840, -71.08138427)  \n",
       "57178  COPELAND ST  42.321948 -71.081384  (42.32194840, -71.08138427)  \n",
       "57179  COPELAND ST  42.321948 -71.081384  (42.32194840, -71.08138427)  \n",
       "57180  COPELAND ST  42.321948 -71.081384  (42.32194840, -71.08138427)  \n",
       "57181  COPELAND ST  42.321948 -71.081384  (42.32194840, -71.08138427)  \n",
       "57182  COPELAND ST  42.321948 -71.081384  (42.32194840, -71.08138427)  \n",
       "57183  COPELAND ST  42.321948 -71.081384  (42.32194840, -71.08138427)  \n",
       "57184  COPELAND ST  42.321948 -71.081384  (42.32194840, -71.08138427)  \n",
       "57185  COPELAND ST  42.321948 -71.081384  (42.32194840, -71.08138427)  \n",
       "57186  COPELAND ST  42.321948 -71.081384  (42.32194840, -71.08138427)  "
      ]
     },
     "execution_count": 121,
     "metadata": {},
     "output_type": "execute_result"
    }
   ],
   "source": [
    "crime_all[crime_all['INCIDENT_NUMBER'] == 'I182044546']"
   ]
  },
  {
   "cell_type": "markdown",
   "id": "6e674332",
   "metadata": {},
   "source": [
    "The column 'INCIDENT_NUMBER' is not a unique value in the table because one individual could be charged with several crimes at once."
   ]
  },
  {
   "cell_type": "code",
   "execution_count": null,
   "id": "316647a3",
   "metadata": {},
   "outputs": [],
   "source": []
  },
  {
   "cell_type": "markdown",
   "id": "7f61c4cd",
   "metadata": {},
   "source": [
    "# EDA"
   ]
  },
  {
   "cell_type": "code",
   "execution_count": 122,
   "id": "584a2bc2",
   "metadata": {
    "scrolled": true
   },
   "outputs": [
    {
     "data": {
      "text/html": [
       "<div>\n",
       "<style scoped>\n",
       "    .dataframe tbody tr th:only-of-type {\n",
       "        vertical-align: middle;\n",
       "    }\n",
       "\n",
       "    .dataframe tbody tr th {\n",
       "        vertical-align: top;\n",
       "    }\n",
       "\n",
       "    .dataframe thead th {\n",
       "        text-align: right;\n",
       "    }\n",
       "</style>\n",
       "<table border=\"1\" class=\"dataframe\">\n",
       "  <thead>\n",
       "    <tr style=\"text-align: right;\">\n",
       "      <th></th>\n",
       "      <th>INCIDENT_NUMBER</th>\n",
       "      <th>OFFENSE_CODE</th>\n",
       "      <th>OFFENSE_CODE_GROUP</th>\n",
       "      <th>OFFENSE_DESCRIPTION</th>\n",
       "      <th>DISTRICT</th>\n",
       "      <th>REPORTING_AREA</th>\n",
       "      <th>SHOOTING</th>\n",
       "      <th>OCCURRED_ON_DATE</th>\n",
       "      <th>YEAR</th>\n",
       "      <th>MONTH</th>\n",
       "      <th>DAY_OF_WEEK</th>\n",
       "      <th>HOUR</th>\n",
       "      <th>UCR_PART</th>\n",
       "      <th>STREET</th>\n",
       "      <th>Lat</th>\n",
       "      <th>Long</th>\n",
       "      <th>Location</th>\n",
       "    </tr>\n",
       "  </thead>\n",
       "  <tbody>\n",
       "    <tr>\n",
       "      <th>0</th>\n",
       "      <td>950485010</td>\n",
       "      <td>3125</td>\n",
       "      <td>NaN</td>\n",
       "      <td>WARRANT ARREST - BOSTON WARRANT (MUST BE SUPPL...</td>\n",
       "      <td>A7</td>\n",
       "      <td>465</td>\n",
       "      <td>0</td>\n",
       "      <td>2019-11-22 20:40:00</td>\n",
       "      <td>2019</td>\n",
       "      <td>11</td>\n",
       "      <td>Friday</td>\n",
       "      <td>20</td>\n",
       "      <td>NaN</td>\n",
       "      <td>HARBORSIDE DR</td>\n",
       "      <td>42.284826</td>\n",
       "      <td>-71.091374</td>\n",
       "      <td>(42.2848257658049, -71.091373689388)</td>\n",
       "    </tr>\n",
       "    <tr>\n",
       "      <th>1</th>\n",
       "      <td>212074531</td>\n",
       "      <td>1102</td>\n",
       "      <td>NaN</td>\n",
       "      <td>FRAUD - FALSE PRETENSE / SCHEME</td>\n",
       "      <td>C6</td>\n",
       "      <td>233</td>\n",
       "      <td>0</td>\n",
       "      <td>2019-12-20 11:43:00</td>\n",
       "      <td>2019</td>\n",
       "      <td>12</td>\n",
       "      <td>Friday</td>\n",
       "      <td>11</td>\n",
       "      <td>NaN</td>\n",
       "      <td>I ST</td>\n",
       "      <td>42.331807</td>\n",
       "      <td>-71.039850</td>\n",
       "      <td>(42.3318067544273, -71.0398500355767)</td>\n",
       "    </tr>\n",
       "    <tr>\n",
       "      <th>2</th>\n",
       "      <td>212064016</td>\n",
       "      <td>619</td>\n",
       "      <td>NaN</td>\n",
       "      <td>LARCENY ALL OTHERS</td>\n",
       "      <td>E18</td>\n",
       "      <td>498</td>\n",
       "      <td>0</td>\n",
       "      <td>2019-12-01 00:00:00</td>\n",
       "      <td>2019</td>\n",
       "      <td>12</td>\n",
       "      <td>Sunday</td>\n",
       "      <td>0</td>\n",
       "      <td>NaN</td>\n",
       "      <td>HYDE PARK AVE</td>\n",
       "      <td>42.275936</td>\n",
       "      <td>-71.119655</td>\n",
       "      <td>(42.2759355490842, -71.1196552154757)</td>\n",
       "    </tr>\n",
       "    <tr>\n",
       "      <th>3</th>\n",
       "      <td>212061475</td>\n",
       "      <td>1102</td>\n",
       "      <td>NaN</td>\n",
       "      <td>FRAUD - FALSE PRETENSE / SCHEME</td>\n",
       "      <td>C11</td>\n",
       "      <td></td>\n",
       "      <td>0</td>\n",
       "      <td>2019-11-01 13:36:00</td>\n",
       "      <td>2019</td>\n",
       "      <td>11</td>\n",
       "      <td>Friday</td>\n",
       "      <td>13</td>\n",
       "      <td>NaN</td>\n",
       "      <td>RICHFIELD ST</td>\n",
       "      <td>42.305975</td>\n",
       "      <td>-71.070119</td>\n",
       "      <td>(42.3059754077487, -71.0701189798993)</td>\n",
       "    </tr>\n",
       "    <tr>\n",
       "      <th>4</th>\n",
       "      <td>212058603</td>\n",
       "      <td>1107</td>\n",
       "      <td>NaN</td>\n",
       "      <td>FRAUD - IMPERSONATION</td>\n",
       "      <td>A7</td>\n",
       "      <td>28</td>\n",
       "      <td>0</td>\n",
       "      <td>2019-12-04 10:51:00</td>\n",
       "      <td>2019</td>\n",
       "      <td>12</td>\n",
       "      <td>Wednesday</td>\n",
       "      <td>10</td>\n",
       "      <td>NaN</td>\n",
       "      <td>PARIS ST</td>\n",
       "      <td>42.370818</td>\n",
       "      <td>-71.039291</td>\n",
       "      <td>(42.3708180467024, -71.0392907813515)</td>\n",
       "    </tr>\n",
       "    <tr>\n",
       "      <th>...</th>\n",
       "      <td>...</td>\n",
       "      <td>...</td>\n",
       "      <td>...</td>\n",
       "      <td>...</td>\n",
       "      <td>...</td>\n",
       "      <td>...</td>\n",
       "      <td>...</td>\n",
       "      <td>...</td>\n",
       "      <td>...</td>\n",
       "      <td>...</td>\n",
       "      <td>...</td>\n",
       "      <td>...</td>\n",
       "      <td>...</td>\n",
       "      <td>...</td>\n",
       "      <td>...</td>\n",
       "      <td>...</td>\n",
       "      <td>...</td>\n",
       "    </tr>\n",
       "    <tr>\n",
       "      <th>61696</th>\n",
       "      <td>121005808</td>\n",
       "      <td>1102</td>\n",
       "      <td>NaN</td>\n",
       "      <td>FRAUD - FALSE PRETENSE / SCHEME</td>\n",
       "      <td>B3</td>\n",
       "      <td>289</td>\n",
       "      <td>0</td>\n",
       "      <td>2021-01-19 12:00:00</td>\n",
       "      <td>2021</td>\n",
       "      <td>1</td>\n",
       "      <td>Tuesday</td>\n",
       "      <td>12</td>\n",
       "      <td>NaN</td>\n",
       "      <td>CLARKWOOD ST</td>\n",
       "      <td>42.333679</td>\n",
       "      <td>-71.091878</td>\n",
       "      <td>(42.3336792181085, -71.0918775461846)</td>\n",
       "    </tr>\n",
       "    <tr>\n",
       "      <th>61697</th>\n",
       "      <td>121000816</td>\n",
       "      <td>3304</td>\n",
       "      <td>NaN</td>\n",
       "      <td>NOISY PARTY/RADIO-NO ARREST</td>\n",
       "      <td>E5</td>\n",
       "      <td>675</td>\n",
       "      <td>0</td>\n",
       "      <td>2021-01-04 00:00:00</td>\n",
       "      <td>2021</td>\n",
       "      <td>1</td>\n",
       "      <td>Monday</td>\n",
       "      <td>0</td>\n",
       "      <td>NaN</td>\n",
       "      <td>BRADFIELD AVENUE</td>\n",
       "      <td>0.000000</td>\n",
       "      <td>0.000000</td>\n",
       "      <td>(0, 0)</td>\n",
       "    </tr>\n",
       "    <tr>\n",
       "      <th>61698</th>\n",
       "      <td>120221042</td>\n",
       "      <td>3006</td>\n",
       "      <td>NaN</td>\n",
       "      <td>SICK/INJURED/MEDICAL - PERSON</td>\n",
       "      <td>E5</td>\n",
       "      <td>680</td>\n",
       "      <td>0</td>\n",
       "      <td>2021-04-02 10:45:00</td>\n",
       "      <td>2021</td>\n",
       "      <td>4</td>\n",
       "      <td>Friday</td>\n",
       "      <td>10</td>\n",
       "      <td>NaN</td>\n",
       "      <td>WASHINGTON ST</td>\n",
       "      <td>42.283902</td>\n",
       "      <td>-71.130863</td>\n",
       "      <td>(42.2839024364831, -71.130862626435)</td>\n",
       "    </tr>\n",
       "    <tr>\n",
       "      <th>61699</th>\n",
       "      <td>10637224</td>\n",
       "      <td>3125</td>\n",
       "      <td>NaN</td>\n",
       "      <td>WARRANT ARREST - BOSTON WARRANT (MUST BE SUPPL...</td>\n",
       "      <td>D4</td>\n",
       "      <td>270</td>\n",
       "      <td>0</td>\n",
       "      <td>2021-01-26 18:54:00</td>\n",
       "      <td>2021</td>\n",
       "      <td>1</td>\n",
       "      <td>Tuesday</td>\n",
       "      <td>18</td>\n",
       "      <td>NaN</td>\n",
       "      <td>NORTHAMPTON ST</td>\n",
       "      <td>42.333951</td>\n",
       "      <td>-71.075389</td>\n",
       "      <td>(42.3339512483938, -71.0753893882269)</td>\n",
       "    </tr>\n",
       "    <tr>\n",
       "      <th>61700</th>\n",
       "      <td>23844463</td>\n",
       "      <td>3115</td>\n",
       "      <td>NaN</td>\n",
       "      <td>INVESTIGATE PERSON</td>\n",
       "      <td>C6</td>\n",
       "      <td></td>\n",
       "      <td>0</td>\n",
       "      <td>2021-10-16 01:16:00</td>\n",
       "      <td>2021</td>\n",
       "      <td>10</td>\n",
       "      <td>Saturday</td>\n",
       "      <td>1</td>\n",
       "      <td>NaN</td>\n",
       "      <td>G ST &amp; E 8TH ST\\nBOSTON  MA 02127\\nUNITED STATES</td>\n",
       "      <td>42.331320</td>\n",
       "      <td>-71.044080</td>\n",
       "      <td>(42.3313200390092, -71.0440799616656)</td>\n",
       "    </tr>\n",
       "  </tbody>\n",
       "</table>\n",
       "<p>154153 rows × 17 columns</p>\n",
       "</div>"
      ],
      "text/plain": [
       "      INCIDENT_NUMBER  OFFENSE_CODE OFFENSE_CODE_GROUP  \\\n",
       "0           950485010          3125                NaN   \n",
       "1           212074531          1102                NaN   \n",
       "2           212064016           619                NaN   \n",
       "3           212061475          1102                NaN   \n",
       "4           212058603          1107                NaN   \n",
       "...               ...           ...                ...   \n",
       "61696       121005808          1102                NaN   \n",
       "61697       121000816          3304                NaN   \n",
       "61698       120221042          3006                NaN   \n",
       "61699        10637224          3125                NaN   \n",
       "61700        23844463          3115                NaN   \n",
       "\n",
       "                                     OFFENSE_DESCRIPTION DISTRICT  \\\n",
       "0      WARRANT ARREST - BOSTON WARRANT (MUST BE SUPPL...       A7   \n",
       "1                        FRAUD - FALSE PRETENSE / SCHEME       C6   \n",
       "2                                     LARCENY ALL OTHERS      E18   \n",
       "3                        FRAUD - FALSE PRETENSE / SCHEME      C11   \n",
       "4                                  FRAUD - IMPERSONATION       A7   \n",
       "...                                                  ...      ...   \n",
       "61696                    FRAUD - FALSE PRETENSE / SCHEME       B3   \n",
       "61697                        NOISY PARTY/RADIO-NO ARREST       E5   \n",
       "61698                      SICK/INJURED/MEDICAL - PERSON       E5   \n",
       "61699  WARRANT ARREST - BOSTON WARRANT (MUST BE SUPPL...       D4   \n",
       "61700                                 INVESTIGATE PERSON       C6   \n",
       "\n",
       "      REPORTING_AREA SHOOTING     OCCURRED_ON_DATE  YEAR  MONTH DAY_OF_WEEK  \\\n",
       "0                465        0  2019-11-22 20:40:00  2019     11      Friday   \n",
       "1                233        0  2019-12-20 11:43:00  2019     12      Friday   \n",
       "2                498        0  2019-12-01 00:00:00  2019     12      Sunday   \n",
       "3                           0  2019-11-01 13:36:00  2019     11      Friday   \n",
       "4                 28        0  2019-12-04 10:51:00  2019     12   Wednesday   \n",
       "...              ...      ...                  ...   ...    ...         ...   \n",
       "61696            289        0  2021-01-19 12:00:00  2021      1     Tuesday   \n",
       "61697            675        0  2021-01-04 00:00:00  2021      1      Monday   \n",
       "61698            680        0  2021-04-02 10:45:00  2021      4      Friday   \n",
       "61699            270        0  2021-01-26 18:54:00  2021      1     Tuesday   \n",
       "61700                       0  2021-10-16 01:16:00  2021     10    Saturday   \n",
       "\n",
       "       HOUR UCR_PART                                            STREET  \\\n",
       "0        20      NaN                                     HARBORSIDE DR   \n",
       "1        11      NaN                                              I ST   \n",
       "2         0      NaN                                     HYDE PARK AVE   \n",
       "3        13      NaN                                      RICHFIELD ST   \n",
       "4        10      NaN                                          PARIS ST   \n",
       "...     ...      ...                                               ...   \n",
       "61696    12      NaN                                      CLARKWOOD ST   \n",
       "61697     0      NaN                                  BRADFIELD AVENUE   \n",
       "61698    10      NaN                                     WASHINGTON ST   \n",
       "61699    18      NaN                                    NORTHAMPTON ST   \n",
       "61700     1      NaN  G ST & E 8TH ST\\nBOSTON  MA 02127\\nUNITED STATES   \n",
       "\n",
       "             Lat       Long                               Location  \n",
       "0      42.284826 -71.091374   (42.2848257658049, -71.091373689388)  \n",
       "1      42.331807 -71.039850  (42.3318067544273, -71.0398500355767)  \n",
       "2      42.275936 -71.119655  (42.2759355490842, -71.1196552154757)  \n",
       "3      42.305975 -71.070119  (42.3059754077487, -71.0701189798993)  \n",
       "4      42.370818 -71.039291  (42.3708180467024, -71.0392907813515)  \n",
       "...          ...        ...                                    ...  \n",
       "61696  42.333679 -71.091878  (42.3336792181085, -71.0918775461846)  \n",
       "61697   0.000000   0.000000                                 (0, 0)  \n",
       "61698  42.283902 -71.130863   (42.2839024364831, -71.130862626435)  \n",
       "61699  42.333951 -71.075389  (42.3339512483938, -71.0753893882269)  \n",
       "61700  42.331320 -71.044080  (42.3313200390092, -71.0440799616656)  \n",
       "\n",
       "[154153 rows x 17 columns]"
      ]
     },
     "execution_count": 122,
     "metadata": {},
     "output_type": "execute_result"
    }
   ],
   "source": [
    "crime_all[crime_all['OFFENSE_CODE_GROUP'].isnull()]"
   ]
  },
  {
   "cell_type": "code",
   "execution_count": 123,
   "id": "1e33ccea",
   "metadata": {},
   "outputs": [
    {
     "data": {
      "text/html": [
       "<div>\n",
       "<style scoped>\n",
       "    .dataframe tbody tr th:only-of-type {\n",
       "        vertical-align: middle;\n",
       "    }\n",
       "\n",
       "    .dataframe tbody tr th {\n",
       "        vertical-align: top;\n",
       "    }\n",
       "\n",
       "    .dataframe thead th {\n",
       "        text-align: right;\n",
       "    }\n",
       "</style>\n",
       "<table border=\"1\" class=\"dataframe\">\n",
       "  <thead>\n",
       "    <tr style=\"text-align: right;\">\n",
       "      <th></th>\n",
       "      <th>INCIDENT_NUMBER</th>\n",
       "      <th>OFFENSE_CODE</th>\n",
       "      <th>OFFENSE_CODE_GROUP</th>\n",
       "      <th>OFFENSE_DESCRIPTION</th>\n",
       "      <th>DISTRICT</th>\n",
       "      <th>REPORTING_AREA</th>\n",
       "      <th>SHOOTING</th>\n",
       "      <th>OCCURRED_ON_DATE</th>\n",
       "      <th>YEAR</th>\n",
       "      <th>MONTH</th>\n",
       "      <th>DAY_OF_WEEK</th>\n",
       "      <th>HOUR</th>\n",
       "      <th>UCR_PART</th>\n",
       "      <th>STREET</th>\n",
       "      <th>Lat</th>\n",
       "      <th>Long</th>\n",
       "      <th>Location</th>\n",
       "    </tr>\n",
       "  </thead>\n",
       "  <tbody>\n",
       "    <tr>\n",
       "      <th>185</th>\n",
       "      <td>I182046625</td>\n",
       "      <td>3125</td>\n",
       "      <td>Warrant Arrests</td>\n",
       "      <td>WARRANT ARREST</td>\n",
       "      <td>C11</td>\n",
       "      <td>388</td>\n",
       "      <td>NaN</td>\n",
       "      <td>2017-08-26 21:55:00</td>\n",
       "      <td>2017</td>\n",
       "      <td>8</td>\n",
       "      <td>Saturday</td>\n",
       "      <td>21</td>\n",
       "      <td>Part Three</td>\n",
       "      <td>DORCHESTER AVE</td>\n",
       "      <td>42.278399</td>\n",
       "      <td>-71.066363</td>\n",
       "      <td>(42.27839920, -71.06636305)</td>\n",
       "    </tr>\n",
       "    <tr>\n",
       "      <th>331</th>\n",
       "      <td>I182021436</td>\n",
       "      <td>3125</td>\n",
       "      <td>Warrant Arrests</td>\n",
       "      <td>WARRANT ARREST</td>\n",
       "      <td>E5</td>\n",
       "      <td>685</td>\n",
       "      <td>NaN</td>\n",
       "      <td>2017-09-03 22:38:00</td>\n",
       "      <td>2017</td>\n",
       "      <td>9</td>\n",
       "      <td>Sunday</td>\n",
       "      <td>22</td>\n",
       "      <td>Part Three</td>\n",
       "      <td>MENDELSSOHN ST</td>\n",
       "      <td>42.278298</td>\n",
       "      <td>-71.138591</td>\n",
       "      <td>(42.27829843, -71.13859143)</td>\n",
       "    </tr>\n",
       "    <tr>\n",
       "      <th>396</th>\n",
       "      <td>I182013757</td>\n",
       "      <td>3125</td>\n",
       "      <td>Warrant Arrests</td>\n",
       "      <td>WARRANT ARREST</td>\n",
       "      <td>A1</td>\n",
       "      <td>121</td>\n",
       "      <td>NaN</td>\n",
       "      <td>2017-12-13 14:00:00</td>\n",
       "      <td>2017</td>\n",
       "      <td>12</td>\n",
       "      <td>Wednesday</td>\n",
       "      <td>14</td>\n",
       "      <td>Part Three</td>\n",
       "      <td>WARRENTON ST</td>\n",
       "      <td>42.350662</td>\n",
       "      <td>-71.066022</td>\n",
       "      <td>(42.35066174, -71.06602232)</td>\n",
       "    </tr>\n",
       "    <tr>\n",
       "      <th>499</th>\n",
       "      <td>I182006844</td>\n",
       "      <td>3125</td>\n",
       "      <td>Warrant Arrests</td>\n",
       "      <td>WARRANT ARREST</td>\n",
       "      <td>A1</td>\n",
       "      <td>84</td>\n",
       "      <td>NaN</td>\n",
       "      <td>2017-12-22 09:00:00</td>\n",
       "      <td>2017</td>\n",
       "      <td>12</td>\n",
       "      <td>Friday</td>\n",
       "      <td>9</td>\n",
       "      <td>Part Three</td>\n",
       "      <td>HANOVER ST</td>\n",
       "      <td>42.363038</td>\n",
       "      <td>-71.055248</td>\n",
       "      <td>(42.36303798, -71.05524751)</td>\n",
       "    </tr>\n",
       "    <tr>\n",
       "      <th>513</th>\n",
       "      <td>I182006284</td>\n",
       "      <td>3125</td>\n",
       "      <td>Warrant Arrests</td>\n",
       "      <td>WARRANT ARREST</td>\n",
       "      <td>NaN</td>\n",
       "      <td></td>\n",
       "      <td>NaN</td>\n",
       "      <td>2017-12-26 15:12:00</td>\n",
       "      <td>2017</td>\n",
       "      <td>12</td>\n",
       "      <td>Tuesday</td>\n",
       "      <td>15</td>\n",
       "      <td>Part Three</td>\n",
       "      <td>PARK</td>\n",
       "      <td>-1.000000</td>\n",
       "      <td>-1.000000</td>\n",
       "      <td>(-1.00000000, -1.00000000)</td>\n",
       "    </tr>\n",
       "    <tr>\n",
       "      <th>...</th>\n",
       "      <td>...</td>\n",
       "      <td>...</td>\n",
       "      <td>...</td>\n",
       "      <td>...</td>\n",
       "      <td>...</td>\n",
       "      <td>...</td>\n",
       "      <td>...</td>\n",
       "      <td>...</td>\n",
       "      <td>...</td>\n",
       "      <td>...</td>\n",
       "      <td>...</td>\n",
       "      <td>...</td>\n",
       "      <td>...</td>\n",
       "      <td>...</td>\n",
       "      <td>...</td>\n",
       "      <td>...</td>\n",
       "      <td>...</td>\n",
       "    </tr>\n",
       "    <tr>\n",
       "      <th>58847</th>\n",
       "      <td>212003826</td>\n",
       "      <td>3125</td>\n",
       "      <td>NaN</td>\n",
       "      <td>WARRANT ARREST - BOSTON WARRANT (MUST BE SUPPL...</td>\n",
       "      <td>A15</td>\n",
       "      <td>54</td>\n",
       "      <td>0</td>\n",
       "      <td>2021-01-18 11:31:00</td>\n",
       "      <td>2021</td>\n",
       "      <td>1</td>\n",
       "      <td>Monday</td>\n",
       "      <td>11</td>\n",
       "      <td>NaN</td>\n",
       "      <td>MAIN ST</td>\n",
       "      <td>42.377463</td>\n",
       "      <td>-71.066980</td>\n",
       "      <td>(42.377463048631, -71.0669796940731)</td>\n",
       "    </tr>\n",
       "    <tr>\n",
       "      <th>59292</th>\n",
       "      <td>212003235</td>\n",
       "      <td>3125</td>\n",
       "      <td>NaN</td>\n",
       "      <td>WARRANT ARREST - BOSTON WARRANT (MUST BE SUPPL...</td>\n",
       "      <td>A1</td>\n",
       "      <td>77</td>\n",
       "      <td>0</td>\n",
       "      <td>2021-01-15 13:58:00</td>\n",
       "      <td>2021</td>\n",
       "      <td>1</td>\n",
       "      <td>Friday</td>\n",
       "      <td>13</td>\n",
       "      <td>NaN</td>\n",
       "      <td>NEW SUDBURY ST</td>\n",
       "      <td>42.361839</td>\n",
       "      <td>-71.059765</td>\n",
       "      <td>(42.3618385665647, -71.0597648909416)</td>\n",
       "    </tr>\n",
       "    <tr>\n",
       "      <th>59674</th>\n",
       "      <td>212002710</td>\n",
       "      <td>3125</td>\n",
       "      <td>NaN</td>\n",
       "      <td>WARRANT ARREST - BOSTON WARRANT (MUST BE SUPPL...</td>\n",
       "      <td>E13</td>\n",
       "      <td>572</td>\n",
       "      <td>0</td>\n",
       "      <td>2021-01-13 09:45:00</td>\n",
       "      <td>2021</td>\n",
       "      <td>1</td>\n",
       "      <td>Wednesday</td>\n",
       "      <td>9</td>\n",
       "      <td>NaN</td>\n",
       "      <td>WASHINGTON ST</td>\n",
       "      <td>42.314855</td>\n",
       "      <td>-71.099224</td>\n",
       "      <td>(42.314855461634, -71.0992240984253)</td>\n",
       "    </tr>\n",
       "    <tr>\n",
       "      <th>59871</th>\n",
       "      <td>212002447</td>\n",
       "      <td>3125</td>\n",
       "      <td>NaN</td>\n",
       "      <td>WARRANT ARREST - BOSTON WARRANT (MUST BE SUPPL...</td>\n",
       "      <td>B2</td>\n",
       "      <td>287</td>\n",
       "      <td>0</td>\n",
       "      <td>2021-01-12 02:38:00</td>\n",
       "      <td>2021</td>\n",
       "      <td>1</td>\n",
       "      <td>Tuesday</td>\n",
       "      <td>2</td>\n",
       "      <td>NaN</td>\n",
       "      <td>DEWITT DR &amp; MADISON PARK CT\\nROXBURY  MA 02120...</td>\n",
       "      <td>42.331737</td>\n",
       "      <td>-71.085787</td>\n",
       "      <td>(42.3317369901488, -71.0857869478524)</td>\n",
       "    </tr>\n",
       "    <tr>\n",
       "      <th>61699</th>\n",
       "      <td>10637224</td>\n",
       "      <td>3125</td>\n",
       "      <td>NaN</td>\n",
       "      <td>WARRANT ARREST - BOSTON WARRANT (MUST BE SUPPL...</td>\n",
       "      <td>D4</td>\n",
       "      <td>270</td>\n",
       "      <td>0</td>\n",
       "      <td>2021-01-26 18:54:00</td>\n",
       "      <td>2021</td>\n",
       "      <td>1</td>\n",
       "      <td>Tuesday</td>\n",
       "      <td>18</td>\n",
       "      <td>NaN</td>\n",
       "      <td>NORTHAMPTON ST</td>\n",
       "      <td>42.333951</td>\n",
       "      <td>-71.075389</td>\n",
       "      <td>(42.3339512483938, -71.0753893882269)</td>\n",
       "    </tr>\n",
       "  </tbody>\n",
       "</table>\n",
       "<p>5718 rows × 17 columns</p>\n",
       "</div>"
      ],
      "text/plain": [
       "      INCIDENT_NUMBER  OFFENSE_CODE OFFENSE_CODE_GROUP  \\\n",
       "185        I182046625          3125    Warrant Arrests   \n",
       "331        I182021436          3125    Warrant Arrests   \n",
       "396        I182013757          3125    Warrant Arrests   \n",
       "499        I182006844          3125    Warrant Arrests   \n",
       "513        I182006284          3125    Warrant Arrests   \n",
       "...               ...           ...                ...   \n",
       "58847       212003826          3125                NaN   \n",
       "59292       212003235          3125                NaN   \n",
       "59674       212002710          3125                NaN   \n",
       "59871       212002447          3125                NaN   \n",
       "61699        10637224          3125                NaN   \n",
       "\n",
       "                                     OFFENSE_DESCRIPTION DISTRICT  \\\n",
       "185                                       WARRANT ARREST      C11   \n",
       "331                                       WARRANT ARREST       E5   \n",
       "396                                       WARRANT ARREST       A1   \n",
       "499                                       WARRANT ARREST       A1   \n",
       "513                                       WARRANT ARREST      NaN   \n",
       "...                                                  ...      ...   \n",
       "58847  WARRANT ARREST - BOSTON WARRANT (MUST BE SUPPL...      A15   \n",
       "59292  WARRANT ARREST - BOSTON WARRANT (MUST BE SUPPL...       A1   \n",
       "59674  WARRANT ARREST - BOSTON WARRANT (MUST BE SUPPL...      E13   \n",
       "59871  WARRANT ARREST - BOSTON WARRANT (MUST BE SUPPL...       B2   \n",
       "61699  WARRANT ARREST - BOSTON WARRANT (MUST BE SUPPL...       D4   \n",
       "\n",
       "      REPORTING_AREA SHOOTING     OCCURRED_ON_DATE  YEAR  MONTH DAY_OF_WEEK  \\\n",
       "185              388      NaN  2017-08-26 21:55:00  2017      8    Saturday   \n",
       "331              685      NaN  2017-09-03 22:38:00  2017      9      Sunday   \n",
       "396              121      NaN  2017-12-13 14:00:00  2017     12   Wednesday   \n",
       "499               84      NaN  2017-12-22 09:00:00  2017     12      Friday   \n",
       "513                       NaN  2017-12-26 15:12:00  2017     12     Tuesday   \n",
       "...              ...      ...                  ...   ...    ...         ...   \n",
       "58847             54        0  2021-01-18 11:31:00  2021      1      Monday   \n",
       "59292             77        0  2021-01-15 13:58:00  2021      1      Friday   \n",
       "59674            572        0  2021-01-13 09:45:00  2021      1   Wednesday   \n",
       "59871            287        0  2021-01-12 02:38:00  2021      1     Tuesday   \n",
       "61699            270        0  2021-01-26 18:54:00  2021      1     Tuesday   \n",
       "\n",
       "       HOUR    UCR_PART                                             STREET  \\\n",
       "185      21  Part Three                                     DORCHESTER AVE   \n",
       "331      22  Part Three                                     MENDELSSOHN ST   \n",
       "396      14  Part Three                                       WARRENTON ST   \n",
       "499       9  Part Three                                         HANOVER ST   \n",
       "513      15  Part Three                                               PARK   \n",
       "...     ...         ...                                                ...   \n",
       "58847    11         NaN                                            MAIN ST   \n",
       "59292    13         NaN                                     NEW SUDBURY ST   \n",
       "59674     9         NaN                                      WASHINGTON ST   \n",
       "59871     2         NaN  DEWITT DR & MADISON PARK CT\\nROXBURY  MA 02120...   \n",
       "61699    18         NaN                                     NORTHAMPTON ST   \n",
       "\n",
       "             Lat       Long                               Location  \n",
       "185    42.278399 -71.066363            (42.27839920, -71.06636305)  \n",
       "331    42.278298 -71.138591            (42.27829843, -71.13859143)  \n",
       "396    42.350662 -71.066022            (42.35066174, -71.06602232)  \n",
       "499    42.363038 -71.055248            (42.36303798, -71.05524751)  \n",
       "513    -1.000000  -1.000000             (-1.00000000, -1.00000000)  \n",
       "...          ...        ...                                    ...  \n",
       "58847  42.377463 -71.066980   (42.377463048631, -71.0669796940731)  \n",
       "59292  42.361839 -71.059765  (42.3618385665647, -71.0597648909416)  \n",
       "59674  42.314855 -71.099224   (42.314855461634, -71.0992240984253)  \n",
       "59871  42.331737 -71.085787  (42.3317369901488, -71.0857869478524)  \n",
       "61699  42.333951 -71.075389  (42.3339512483938, -71.0753893882269)  \n",
       "\n",
       "[5718 rows x 17 columns]"
      ]
     },
     "execution_count": 123,
     "metadata": {},
     "output_type": "execute_result"
    }
   ],
   "source": [
    "crime_all[crime_all['OFFENSE_CODE'] == 3125]"
   ]
  },
  {
   "cell_type": "markdown",
   "id": "d45c3ea3",
   "metadata": {},
   "source": [
    "The column 'OFFENSE_CODE_GROUP' is not properly populated. Altough the cases have the same OFFENSE_CODE, some of the cases were not assigned 'OFFENSE_CODE_GROUP'."
   ]
  },
  {
   "cell_type": "code",
   "execution_count": 124,
   "id": "d9e4badb",
   "metadata": {},
   "outputs": [],
   "source": [
    "crime_all_help = crime_all[crime_all['OFFENSE_CODE_GROUP'].notnull()]"
   ]
  },
  {
   "cell_type": "code",
   "execution_count": 125,
   "id": "bb1822c0",
   "metadata": {},
   "outputs": [
    {
     "data": {
      "text/html": [
       "<div>\n",
       "<style scoped>\n",
       "    .dataframe tbody tr th:only-of-type {\n",
       "        vertical-align: middle;\n",
       "    }\n",
       "\n",
       "    .dataframe tbody tr th {\n",
       "        vertical-align: top;\n",
       "    }\n",
       "\n",
       "    .dataframe thead th {\n",
       "        text-align: right;\n",
       "    }\n",
       "</style>\n",
       "<table border=\"1\" class=\"dataframe\">\n",
       "  <thead>\n",
       "    <tr style=\"text-align: right;\">\n",
       "      <th></th>\n",
       "      <th>INCIDENT_NUMBER</th>\n",
       "      <th>OFFENSE_CODE</th>\n",
       "      <th>OFFENSE_CODE_GROUP</th>\n",
       "      <th>OFFENSE_DESCRIPTION</th>\n",
       "      <th>DISTRICT</th>\n",
       "      <th>REPORTING_AREA</th>\n",
       "      <th>SHOOTING</th>\n",
       "      <th>OCCURRED_ON_DATE</th>\n",
       "      <th>YEAR</th>\n",
       "      <th>MONTH</th>\n",
       "      <th>DAY_OF_WEEK</th>\n",
       "      <th>HOUR</th>\n",
       "      <th>UCR_PART</th>\n",
       "      <th>STREET</th>\n",
       "      <th>Lat</th>\n",
       "      <th>Long</th>\n",
       "      <th>Location</th>\n",
       "    </tr>\n",
       "  </thead>\n",
       "  <tbody>\n",
       "    <tr>\n",
       "      <th>0</th>\n",
       "      <td>I192074488</td>\n",
       "      <td>619</td>\n",
       "      <td>Larceny</td>\n",
       "      <td>LARCENY ALL OTHERS</td>\n",
       "      <td>C11</td>\n",
       "      <td>351</td>\n",
       "      <td>NaN</td>\n",
       "      <td>2017-08-23 00:00:00</td>\n",
       "      <td>2017</td>\n",
       "      <td>8</td>\n",
       "      <td>Wednesday</td>\n",
       "      <td>0</td>\n",
       "      <td>Part One</td>\n",
       "      <td>ADAMS ST</td>\n",
       "      <td>42.300605</td>\n",
       "      <td>-71.059230</td>\n",
       "      <td>(42.30060526, -71.05923027)</td>\n",
       "    </tr>\n",
       "    <tr>\n",
       "      <th>1</th>\n",
       "      <td>I192073511</td>\n",
       "      <td>1107</td>\n",
       "      <td>Fraud</td>\n",
       "      <td>FRAUD - IMPERSONATION</td>\n",
       "      <td>B3</td>\n",
       "      <td>435</td>\n",
       "      <td>NaN</td>\n",
       "      <td>2017-02-21 00:01:00</td>\n",
       "      <td>2017</td>\n",
       "      <td>2</td>\n",
       "      <td>Tuesday</td>\n",
       "      <td>0</td>\n",
       "      <td>Part Two</td>\n",
       "      <td>ARMANDINE ST</td>\n",
       "      <td>42.284315</td>\n",
       "      <td>-71.074108</td>\n",
       "      <td>(42.28431486, -71.07410838)</td>\n",
       "    </tr>\n",
       "    <tr>\n",
       "      <th>2</th>\n",
       "      <td>I192073187</td>\n",
       "      <td>2629</td>\n",
       "      <td>Harassment</td>\n",
       "      <td>HARASSMENT</td>\n",
       "      <td>C6</td>\n",
       "      <td>231</td>\n",
       "      <td>NaN</td>\n",
       "      <td>2017-07-13 00:00:00</td>\n",
       "      <td>2017</td>\n",
       "      <td>7</td>\n",
       "      <td>Thursday</td>\n",
       "      <td>0</td>\n",
       "      <td>Part Two</td>\n",
       "      <td>E FIFTH ST</td>\n",
       "      <td>42.333989</td>\n",
       "      <td>-71.032606</td>\n",
       "      <td>(42.33398889, -71.03260574)</td>\n",
       "    </tr>\n",
       "    <tr>\n",
       "      <th>3</th>\n",
       "      <td>I192072907</td>\n",
       "      <td>802</td>\n",
       "      <td>Simple Assault</td>\n",
       "      <td>ASSAULT SIMPLE - BATTERY</td>\n",
       "      <td>D4</td>\n",
       "      <td>171</td>\n",
       "      <td>NaN</td>\n",
       "      <td>2017-09-01 16:32:00</td>\n",
       "      <td>2017</td>\n",
       "      <td>9</td>\n",
       "      <td>Friday</td>\n",
       "      <td>16</td>\n",
       "      <td>Part Two</td>\n",
       "      <td>HARRISON AVE</td>\n",
       "      <td>42.335119</td>\n",
       "      <td>-71.074917</td>\n",
       "      <td>(42.33511904, -71.07491710)</td>\n",
       "    </tr>\n",
       "    <tr>\n",
       "      <th>4</th>\n",
       "      <td>I192072900</td>\n",
       "      <td>1102</td>\n",
       "      <td>Fraud</td>\n",
       "      <td>FRAUD - FALSE PRETENSE / SCHEME</td>\n",
       "      <td>D4</td>\n",
       "      <td>151</td>\n",
       "      <td>NaN</td>\n",
       "      <td>2017-09-01 00:00:00</td>\n",
       "      <td>2017</td>\n",
       "      <td>9</td>\n",
       "      <td>Friday</td>\n",
       "      <td>0</td>\n",
       "      <td>Part Two</td>\n",
       "      <td>WARREN AVE</td>\n",
       "      <td>42.345163</td>\n",
       "      <td>-71.071291</td>\n",
       "      <td>(42.34516350, -71.07129114)</td>\n",
       "    </tr>\n",
       "  </tbody>\n",
       "</table>\n",
       "</div>"
      ],
      "text/plain": [
       "  INCIDENT_NUMBER  OFFENSE_CODE OFFENSE_CODE_GROUP  \\\n",
       "0      I192074488           619            Larceny   \n",
       "1      I192073511          1107              Fraud   \n",
       "2      I192073187          2629         Harassment   \n",
       "3      I192072907           802     Simple Assault   \n",
       "4      I192072900          1102              Fraud   \n",
       "\n",
       "               OFFENSE_DESCRIPTION DISTRICT REPORTING_AREA SHOOTING  \\\n",
       "0               LARCENY ALL OTHERS      C11            351      NaN   \n",
       "1            FRAUD - IMPERSONATION       B3            435      NaN   \n",
       "2                       HARASSMENT       C6            231      NaN   \n",
       "3         ASSAULT SIMPLE - BATTERY       D4            171      NaN   \n",
       "4  FRAUD - FALSE PRETENSE / SCHEME       D4            151      NaN   \n",
       "\n",
       "      OCCURRED_ON_DATE  YEAR  MONTH DAY_OF_WEEK  HOUR  UCR_PART        STREET  \\\n",
       "0  2017-08-23 00:00:00  2017      8   Wednesday     0  Part One      ADAMS ST   \n",
       "1  2017-02-21 00:01:00  2017      2     Tuesday     0  Part Two  ARMANDINE ST   \n",
       "2  2017-07-13 00:00:00  2017      7    Thursday     0  Part Two    E FIFTH ST   \n",
       "3  2017-09-01 16:32:00  2017      9      Friday    16  Part Two  HARRISON AVE   \n",
       "4  2017-09-01 00:00:00  2017      9      Friday     0  Part Two    WARREN AVE   \n",
       "\n",
       "         Lat       Long                     Location  \n",
       "0  42.300605 -71.059230  (42.30060526, -71.05923027)  \n",
       "1  42.284315 -71.074108  (42.28431486, -71.07410838)  \n",
       "2  42.333989 -71.032606  (42.33398889, -71.03260574)  \n",
       "3  42.335119 -71.074917  (42.33511904, -71.07491710)  \n",
       "4  42.345163 -71.071291  (42.34516350, -71.07129114)  "
      ]
     },
     "execution_count": 125,
     "metadata": {},
     "output_type": "execute_result"
    }
   ],
   "source": [
    "crime_all_help.head(5)"
   ]
  },
  {
   "cell_type": "code",
   "execution_count": 126,
   "id": "0cf05cb6",
   "metadata": {},
   "outputs": [
    {
     "data": {
      "text/plain": [
       "{619: 'Larceny',\n",
       " 1107: 'Fraud',\n",
       " 2629: 'Harassment',\n",
       " 802: 'Simple Assault',\n",
       " 1102: 'Fraud',\n",
       " 614: 'Larceny From Motor Vehicle',\n",
       " 3201: 'Property Lost',\n",
       " 3115: 'Investigate Person',\n",
       " 1106: 'Confidence Games',\n",
       " 522: 'Residential Burglary',\n",
       " 3114: 'Investigate Property',\n",
       " 2647: 'Other',\n",
       " 1109: 'Fraud',\n",
       " 2005: 'Offenses Against Child / Family',\n",
       " 2403: 'Disorderly Conduct',\n",
       " 2610: 'Other',\n",
       " 1001: 'Counterfeiting',\n",
       " 3202: 'Property Found',\n",
       " 3110: 'Police Service Incidents',\n",
       " 616: 'Larceny',\n",
       " 1201: 'Embezzlement',\n",
       " 1402: 'Vandalism',\n",
       " 617: 'Larceny',\n",
       " 706: 'Auto Theft',\n",
       " 2914: 'Violations',\n",
       " 2623: 'Other',\n",
       " 413: 'Aggravated Assault',\n",
       " 1304: 'Recovered Stolen Property',\n",
       " 2622: 'Other',\n",
       " 724: 'Auto Theft',\n",
       " 3831: 'Motor Vehicle Accident Response',\n",
       " 3125: 'Warrant Arrests',\n",
       " 2648: 'Bomb Hoax',\n",
       " 3802: 'Motor Vehicle Accident Response',\n",
       " 3208: 'Property Lost',\n",
       " 3205: 'License Plate Related Incidents',\n",
       " 3501: 'Missing Person Reported',\n",
       " 3502: 'Missing Person Located',\n",
       " 3801: 'Motor Vehicle Accident Response',\n",
       " 804: 'Simple Assault',\n",
       " 423: 'Aggravated Assault',\n",
       " 3207: 'Property Found',\n",
       " 301: 'Robbery',\n",
       " 1108: 'Fraud',\n",
       " 2660: 'Other',\n",
       " 1300: 'Recovered Stolen Property',\n",
       " 2007: 'Restraining Order Violations',\n",
       " 3106: 'Property Related Damage',\n",
       " 1504: 'Other',\n",
       " 613: 'Larceny',\n",
       " 3112: 'Landlord/Tenant Disputes',\n",
       " 520: 'Residential Burglary',\n",
       " 3830: 'Motor Vehicle Accident Response',\n",
       " 670: 'License Plate Related Incidents',\n",
       " 727: 'Auto Theft',\n",
       " 2407: 'Disorderly Conduct',\n",
       " 3109: 'Police Service Incidents',\n",
       " 615: 'Larceny From Motor Vehicle',\n",
       " 3102: 'Other',\n",
       " 618: 'Larceny',\n",
       " 735: 'Auto Theft Recovery',\n",
       " 3018: 'Medical Assistance',\n",
       " 1415: 'Vandalism',\n",
       " 3111: 'License Violation',\n",
       " 3810: 'Motor Vehicle Accident Response',\n",
       " 2631: 'Other',\n",
       " 612: 'Larceny',\n",
       " 3410: 'Towed',\n",
       " 3402: 'Service',\n",
       " 3006: 'Medical Assistance',\n",
       " 3803: 'Motor Vehicle Accident Response',\n",
       " 3301: 'Verbal Disputes',\n",
       " 2204: 'Liquor Violation',\n",
       " 521: 'Residential Burglary',\n",
       " 3160: 'Fire Related Reports',\n",
       " 3625: 'Other',\n",
       " 2613: 'Other',\n",
       " 3503: 'Missing Person Located',\n",
       " 2662: 'Ballistics',\n",
       " 361: 'Robbery',\n",
       " 2900: 'Other',\n",
       " 3002: 'Medical Assistance',\n",
       " 2632: 'Evading Fare',\n",
       " 2905: 'Violations',\n",
       " 2101: 'Operating Under the Influence',\n",
       " 2003: 'Offenses Against Child / Family',\n",
       " 1830: 'Drug Violation',\n",
       " 3007: 'Medical Assistance',\n",
       " 2405: 'Disorderly Conduct',\n",
       " 2907: 'Violations',\n",
       " 1848: 'Drug Violation',\n",
       " 1841: 'Drug Violation',\n",
       " 561: 'Other Burglary',\n",
       " 560: 'Other Burglary',\n",
       " 2612: 'Fire Related Reports',\n",
       " 3108: 'Fire Related Reports',\n",
       " 2906: 'Violations',\n",
       " 1849: 'Drug Violation',\n",
       " 1843: 'Drug Violation',\n",
       " 2006: 'Restraining Order Violations',\n",
       " 1510: 'Firearm Violations',\n",
       " 1501: 'Firearm Violations',\n",
       " 311: 'Robbery',\n",
       " 3805: 'Motor Vehicle Accident Response',\n",
       " 3001: 'Medical Assistance',\n",
       " 540: 'Commercial Burglary',\n",
       " 3807: 'Motor Vehicle Accident Response',\n",
       " 1832: 'Drug Violation',\n",
       " 542: 'Commercial Burglary',\n",
       " 3820: 'Motor Vehicle Accident Response',\n",
       " 3130: 'Search Warrants',\n",
       " 1810: 'Drug Violation',\n",
       " 1845: 'Drug Violation',\n",
       " 2672: 'Biological Threat',\n",
       " 1831: 'Drug Violation',\n",
       " 1806: 'Drug Violation',\n",
       " 1842: 'Drug Violation',\n",
       " 1844: 'Drug Violation',\n",
       " 3116: 'Harbor Related Incidents',\n",
       " 2511: 'Other',\n",
       " 3008: 'Medical Assistance',\n",
       " 1805: 'Drug Violation',\n",
       " 381: 'Robbery',\n",
       " 3119: 'Firearm Discovery',\n",
       " 3821: 'Motor Vehicle Accident Response',\n",
       " 2646: 'Liquor Violation',\n",
       " 2616: 'Other',\n",
       " 1850: 'Drug Violation',\n",
       " 1846: 'Drug Violation',\n",
       " 1503: 'Firearm Violations',\n",
       " 3029: 'Prisoner Related Incidents',\n",
       " 111: 'Homicide',\n",
       " 2608: 'Offenses Against Child / Family',\n",
       " 801: 'Simple Assault',\n",
       " 3305: 'Assembly or Gathering Violations',\n",
       " 1874: 'Drug Violation',\n",
       " 121: 'Manslaughter',\n",
       " 2642: 'Missing Person Reported',\n",
       " 1870: 'Drug Violation',\n",
       " 2102: 'Operating Under the Influence',\n",
       " 2657: 'Other',\n",
       " 2641: 'Other',\n",
       " 3811: 'Motor Vehicle Accident Response',\n",
       " 3170: 'Other',\n",
       " 2401: 'Disorderly Conduct',\n",
       " 1847: 'Drug Violation',\n",
       " 562: 'Other Burglary',\n",
       " 900: 'Arson',\n",
       " 371: 'Robbery',\n",
       " 2670: 'Criminal Harassment',\n",
       " 3203: 'Firearm Discovery',\n",
       " 1601: 'Prostitution',\n",
       " 3004: 'Medical Assistance',\n",
       " 2619: 'Prisoner Related Incidents',\n",
       " 611: 'Larceny',\n",
       " 3620: 'Other',\n",
       " 351: 'Robbery',\n",
       " 2010: 'HOME INVASION',\n",
       " 541: 'Commercial Burglary',\n",
       " 3304: 'Assembly or Gathering Violations',\n",
       " 3303: 'Assembly or Gathering Violations',\n",
       " 2604: 'Other',\n",
       " 1815: 'Drug Violation',\n",
       " 2606: 'Prisoner Related Incidents',\n",
       " 2628: 'Phone Call Complaints',\n",
       " 1825: 'Drug Violation',\n",
       " 3122: 'Aircraft',\n",
       " 2663: 'Other',\n",
       " 1901: 'Gambling',\n",
       " 2664: 'Other',\n",
       " 3403: 'Police Service Incidents',\n",
       " 2605: 'Offenses Against Child / Family',\n",
       " 2004: 'Offenses Against Child / Family',\n",
       " 1502: 'Firearm Violations',\n",
       " 3123: 'Explosives',\n",
       " 2636: 'Prisoner Related Incidents',\n",
       " 1602: 'Prostitution',\n",
       " 2617: 'Drug Violation',\n",
       " 1610: 'HUMAN TRAFFICKING',\n",
       " 2611: 'Other',\n",
       " 1605: 'Prostitution',\n",
       " 2618: 'Explosives',\n",
       " 123: 'Manslaughter',\n",
       " 1620: 'HUMAN TRAFFICKING - INVOLUNTARY SERVITUDE',\n",
       " 1603: 'Prostitution',\n",
       " 1807: 'Drug Violation',\n",
       " 3302: 'Assembly or Gathering Violations',\n",
       " 803: 'Simple Assault',\n",
       " 339: 'Robbery',\n",
       " 3016: 'Medical Assistance',\n",
       " 335: 'Robbery',\n",
       " 637: 'Larceny',\n",
       " 1864: 'Drug Violation'}"
      ]
     },
     "execution_count": 126,
     "metadata": {},
     "output_type": "execute_result"
    }
   ],
   "source": [
    "crime_dict = {}\n",
    "val = 0\n",
    "for i in crime_all_help['OFFENSE_CODE']:\n",
    "    if i not in crime_dict.keys():\n",
    "        crime_dict[i] = crime_all_help.iloc[val, 2]\n",
    "    val = val + 1\n",
    "        \n",
    "crime_dict"
   ]
  },
  {
   "cell_type": "markdown",
   "id": "740d6ef8",
   "metadata": {},
   "source": [
    "Converting the Dictionary to the Data Frame."
   ]
  },
  {
   "cell_type": "code",
   "execution_count": 127,
   "id": "438c00de",
   "metadata": {},
   "outputs": [],
   "source": [
    "data_item = crime_dict.items()\n",
    "data_list = list(data_item)\n",
    "\n",
    "crime_table = pd.DataFrame(data_list)"
   ]
  },
  {
   "cell_type": "code",
   "execution_count": 128,
   "id": "2c09e6e2",
   "metadata": {},
   "outputs": [
    {
     "data": {
      "text/html": [
       "<div>\n",
       "<style scoped>\n",
       "    .dataframe tbody tr th:only-of-type {\n",
       "        vertical-align: middle;\n",
       "    }\n",
       "\n",
       "    .dataframe tbody tr th {\n",
       "        vertical-align: top;\n",
       "    }\n",
       "\n",
       "    .dataframe thead th {\n",
       "        text-align: right;\n",
       "    }\n",
       "</style>\n",
       "<table border=\"1\" class=\"dataframe\">\n",
       "  <thead>\n",
       "    <tr style=\"text-align: right;\">\n",
       "      <th></th>\n",
       "      <th>0</th>\n",
       "      <th>1</th>\n",
       "    </tr>\n",
       "  </thead>\n",
       "  <tbody>\n",
       "    <tr>\n",
       "      <th>0</th>\n",
       "      <td>619</td>\n",
       "      <td>Larceny</td>\n",
       "    </tr>\n",
       "    <tr>\n",
       "      <th>1</th>\n",
       "      <td>1107</td>\n",
       "      <td>Fraud</td>\n",
       "    </tr>\n",
       "    <tr>\n",
       "      <th>2</th>\n",
       "      <td>2629</td>\n",
       "      <td>Harassment</td>\n",
       "    </tr>\n",
       "    <tr>\n",
       "      <th>3</th>\n",
       "      <td>802</td>\n",
       "      <td>Simple Assault</td>\n",
       "    </tr>\n",
       "    <tr>\n",
       "      <th>4</th>\n",
       "      <td>1102</td>\n",
       "      <td>Fraud</td>\n",
       "    </tr>\n",
       "    <tr>\n",
       "      <th>...</th>\n",
       "      <td>...</td>\n",
       "      <td>...</td>\n",
       "    </tr>\n",
       "    <tr>\n",
       "      <th>188</th>\n",
       "      <td>339</td>\n",
       "      <td>Robbery</td>\n",
       "    </tr>\n",
       "    <tr>\n",
       "      <th>189</th>\n",
       "      <td>3016</td>\n",
       "      <td>Medical Assistance</td>\n",
       "    </tr>\n",
       "    <tr>\n",
       "      <th>190</th>\n",
       "      <td>335</td>\n",
       "      <td>Robbery</td>\n",
       "    </tr>\n",
       "    <tr>\n",
       "      <th>191</th>\n",
       "      <td>637</td>\n",
       "      <td>Larceny</td>\n",
       "    </tr>\n",
       "    <tr>\n",
       "      <th>192</th>\n",
       "      <td>1864</td>\n",
       "      <td>Drug Violation</td>\n",
       "    </tr>\n",
       "  </tbody>\n",
       "</table>\n",
       "<p>193 rows × 2 columns</p>\n",
       "</div>"
      ],
      "text/plain": [
       "        0                   1\n",
       "0     619             Larceny\n",
       "1    1107               Fraud\n",
       "2    2629          Harassment\n",
       "3     802      Simple Assault\n",
       "4    1102               Fraud\n",
       "..    ...                 ...\n",
       "188   339             Robbery\n",
       "189  3016  Medical Assistance\n",
       "190   335             Robbery\n",
       "191   637             Larceny\n",
       "192  1864      Drug Violation\n",
       "\n",
       "[193 rows x 2 columns]"
      ]
     },
     "execution_count": 128,
     "metadata": {},
     "output_type": "execute_result"
    }
   ],
   "source": [
    "crime_table"
   ]
  },
  {
   "cell_type": "markdown",
   "id": "0151df9e",
   "metadata": {},
   "source": [
    "Joining the crime_all table with crime_table."
   ]
  },
  {
   "cell_type": "code",
   "execution_count": 129,
   "id": "a3172c8e",
   "metadata": {},
   "outputs": [
    {
     "data": {
      "text/html": [
       "<div>\n",
       "<style scoped>\n",
       "    .dataframe tbody tr th:only-of-type {\n",
       "        vertical-align: middle;\n",
       "    }\n",
       "\n",
       "    .dataframe tbody tr th {\n",
       "        vertical-align: top;\n",
       "    }\n",
       "\n",
       "    .dataframe thead th {\n",
       "        text-align: right;\n",
       "    }\n",
       "</style>\n",
       "<table border=\"1\" class=\"dataframe\">\n",
       "  <thead>\n",
       "    <tr style=\"text-align: right;\">\n",
       "      <th></th>\n",
       "      <th>INCIDENT_NUMBER</th>\n",
       "      <th>OFFENSE_CODE</th>\n",
       "      <th>OFFENSE_CODE_GROUP</th>\n",
       "      <th>OFFENSE_DESCRIPTION</th>\n",
       "      <th>DISTRICT</th>\n",
       "      <th>REPORTING_AREA</th>\n",
       "      <th>SHOOTING</th>\n",
       "      <th>OCCURRED_ON_DATE</th>\n",
       "      <th>YEAR</th>\n",
       "      <th>MONTH</th>\n",
       "      <th>DAY_OF_WEEK</th>\n",
       "      <th>HOUR</th>\n",
       "      <th>UCR_PART</th>\n",
       "      <th>STREET</th>\n",
       "      <th>Lat</th>\n",
       "      <th>Long</th>\n",
       "      <th>Location</th>\n",
       "      <th>0</th>\n",
       "      <th>1</th>\n",
       "    </tr>\n",
       "  </thead>\n",
       "  <tbody>\n",
       "    <tr>\n",
       "      <th>0</th>\n",
       "      <td>I192074488</td>\n",
       "      <td>619</td>\n",
       "      <td>Larceny</td>\n",
       "      <td>LARCENY ALL OTHERS</td>\n",
       "      <td>C11</td>\n",
       "      <td>351</td>\n",
       "      <td>NaN</td>\n",
       "      <td>2017-08-23 00:00:00</td>\n",
       "      <td>2017</td>\n",
       "      <td>8</td>\n",
       "      <td>Wednesday</td>\n",
       "      <td>0</td>\n",
       "      <td>Part One</td>\n",
       "      <td>ADAMS ST</td>\n",
       "      <td>42.300605</td>\n",
       "      <td>-71.059230</td>\n",
       "      <td>(42.30060526, -71.05923027)</td>\n",
       "      <td>619.0</td>\n",
       "      <td>Larceny</td>\n",
       "    </tr>\n",
       "    <tr>\n",
       "      <th>1</th>\n",
       "      <td>I192073511</td>\n",
       "      <td>1107</td>\n",
       "      <td>Fraud</td>\n",
       "      <td>FRAUD - IMPERSONATION</td>\n",
       "      <td>B3</td>\n",
       "      <td>435</td>\n",
       "      <td>NaN</td>\n",
       "      <td>2017-02-21 00:01:00</td>\n",
       "      <td>2017</td>\n",
       "      <td>2</td>\n",
       "      <td>Tuesday</td>\n",
       "      <td>0</td>\n",
       "      <td>Part Two</td>\n",
       "      <td>ARMANDINE ST</td>\n",
       "      <td>42.284315</td>\n",
       "      <td>-71.074108</td>\n",
       "      <td>(42.28431486, -71.07410838)</td>\n",
       "      <td>1107.0</td>\n",
       "      <td>Fraud</td>\n",
       "    </tr>\n",
       "    <tr>\n",
       "      <th>2</th>\n",
       "      <td>I192073187</td>\n",
       "      <td>2629</td>\n",
       "      <td>Harassment</td>\n",
       "      <td>HARASSMENT</td>\n",
       "      <td>C6</td>\n",
       "      <td>231</td>\n",
       "      <td>NaN</td>\n",
       "      <td>2017-07-13 00:00:00</td>\n",
       "      <td>2017</td>\n",
       "      <td>7</td>\n",
       "      <td>Thursday</td>\n",
       "      <td>0</td>\n",
       "      <td>Part Two</td>\n",
       "      <td>E FIFTH ST</td>\n",
       "      <td>42.333989</td>\n",
       "      <td>-71.032606</td>\n",
       "      <td>(42.33398889, -71.03260574)</td>\n",
       "      <td>2629.0</td>\n",
       "      <td>Harassment</td>\n",
       "    </tr>\n",
       "    <tr>\n",
       "      <th>3</th>\n",
       "      <td>I192072907</td>\n",
       "      <td>802</td>\n",
       "      <td>Simple Assault</td>\n",
       "      <td>ASSAULT SIMPLE - BATTERY</td>\n",
       "      <td>D4</td>\n",
       "      <td>171</td>\n",
       "      <td>NaN</td>\n",
       "      <td>2017-09-01 16:32:00</td>\n",
       "      <td>2017</td>\n",
       "      <td>9</td>\n",
       "      <td>Friday</td>\n",
       "      <td>16</td>\n",
       "      <td>Part Two</td>\n",
       "      <td>HARRISON AVE</td>\n",
       "      <td>42.335119</td>\n",
       "      <td>-71.074917</td>\n",
       "      <td>(42.33511904, -71.07491710)</td>\n",
       "      <td>802.0</td>\n",
       "      <td>Simple Assault</td>\n",
       "    </tr>\n",
       "    <tr>\n",
       "      <th>4</th>\n",
       "      <td>I192072900</td>\n",
       "      <td>1102</td>\n",
       "      <td>Fraud</td>\n",
       "      <td>FRAUD - FALSE PRETENSE / SCHEME</td>\n",
       "      <td>D4</td>\n",
       "      <td>151</td>\n",
       "      <td>NaN</td>\n",
       "      <td>2017-09-01 00:00:00</td>\n",
       "      <td>2017</td>\n",
       "      <td>9</td>\n",
       "      <td>Friday</td>\n",
       "      <td>0</td>\n",
       "      <td>Part Two</td>\n",
       "      <td>WARREN AVE</td>\n",
       "      <td>42.345163</td>\n",
       "      <td>-71.071291</td>\n",
       "      <td>(42.34516350, -71.07129114)</td>\n",
       "      <td>1102.0</td>\n",
       "      <td>Fraud</td>\n",
       "    </tr>\n",
       "  </tbody>\n",
       "</table>\n",
       "</div>"
      ],
      "text/plain": [
       "  INCIDENT_NUMBER  OFFENSE_CODE OFFENSE_CODE_GROUP  \\\n",
       "0      I192074488           619            Larceny   \n",
       "1      I192073511          1107              Fraud   \n",
       "2      I192073187          2629         Harassment   \n",
       "3      I192072907           802     Simple Assault   \n",
       "4      I192072900          1102              Fraud   \n",
       "\n",
       "               OFFENSE_DESCRIPTION DISTRICT REPORTING_AREA SHOOTING  \\\n",
       "0               LARCENY ALL OTHERS      C11            351      NaN   \n",
       "1            FRAUD - IMPERSONATION       B3            435      NaN   \n",
       "2                       HARASSMENT       C6            231      NaN   \n",
       "3         ASSAULT SIMPLE - BATTERY       D4            171      NaN   \n",
       "4  FRAUD - FALSE PRETENSE / SCHEME       D4            151      NaN   \n",
       "\n",
       "      OCCURRED_ON_DATE  YEAR  MONTH DAY_OF_WEEK  HOUR  UCR_PART        STREET  \\\n",
       "0  2017-08-23 00:00:00  2017      8   Wednesday     0  Part One      ADAMS ST   \n",
       "1  2017-02-21 00:01:00  2017      2     Tuesday     0  Part Two  ARMANDINE ST   \n",
       "2  2017-07-13 00:00:00  2017      7    Thursday     0  Part Two    E FIFTH ST   \n",
       "3  2017-09-01 16:32:00  2017      9      Friday    16  Part Two  HARRISON AVE   \n",
       "4  2017-09-01 00:00:00  2017      9      Friday     0  Part Two    WARREN AVE   \n",
       "\n",
       "         Lat       Long                     Location       0               1  \n",
       "0  42.300605 -71.059230  (42.30060526, -71.05923027)   619.0         Larceny  \n",
       "1  42.284315 -71.074108  (42.28431486, -71.07410838)  1107.0           Fraud  \n",
       "2  42.333989 -71.032606  (42.33398889, -71.03260574)  2629.0      Harassment  \n",
       "3  42.335119 -71.074917  (42.33511904, -71.07491710)   802.0  Simple Assault  \n",
       "4  42.345163 -71.071291  (42.34516350, -71.07129114)  1102.0           Fraud  "
      ]
     },
     "execution_count": 129,
     "metadata": {},
     "output_type": "execute_result"
    }
   ],
   "source": [
    "crime_all_new = crime_all.merge(crime_table, how = 'left', left_on = 'OFFENSE_CODE', right_on = 0)\n",
    "crime_all_new.head(5)"
   ]
  },
  {
   "cell_type": "code",
   "execution_count": 130,
   "id": "4e9364a7",
   "metadata": {},
   "outputs": [
    {
     "data": {
      "text/plain": [
       "Warrant Arrests    5718\n",
       "Name: 1, dtype: int64"
      ]
     },
     "execution_count": 130,
     "metadata": {},
     "output_type": "execute_result"
    }
   ],
   "source": [
    "x = crime_all_new\n",
    "x[x['OFFENSE_CODE'] == 3125][1].value_counts()"
   ]
  },
  {
   "cell_type": "markdown",
   "id": "6aa150ed",
   "metadata": {},
   "source": [
    "Renaming and Dropping unecessary columns"
   ]
  },
  {
   "cell_type": "code",
   "execution_count": 131,
   "id": "159921d4",
   "metadata": {},
   "outputs": [
    {
     "data": {
      "text/html": [
       "<div>\n",
       "<style scoped>\n",
       "    .dataframe tbody tr th:only-of-type {\n",
       "        vertical-align: middle;\n",
       "    }\n",
       "\n",
       "    .dataframe tbody tr th {\n",
       "        vertical-align: top;\n",
       "    }\n",
       "\n",
       "    .dataframe thead th {\n",
       "        text-align: right;\n",
       "    }\n",
       "</style>\n",
       "<table border=\"1\" class=\"dataframe\">\n",
       "  <thead>\n",
       "    <tr style=\"text-align: right;\">\n",
       "      <th></th>\n",
       "      <th>INCIDENT_NUMBER</th>\n",
       "      <th>OFFENSE_CODE</th>\n",
       "      <th>OFFENSE_CODE_GROUP</th>\n",
       "      <th>OFFENSE_DESCRIPTION</th>\n",
       "      <th>DISTRICT</th>\n",
       "      <th>REPORTING_AREA</th>\n",
       "      <th>SHOOTING</th>\n",
       "      <th>OCCURRED_ON_DATE</th>\n",
       "      <th>YEAR</th>\n",
       "      <th>MONTH</th>\n",
       "      <th>DAY_OF_WEEK</th>\n",
       "      <th>HOUR</th>\n",
       "      <th>UCR_PART</th>\n",
       "      <th>STREET</th>\n",
       "      <th>Lat</th>\n",
       "      <th>Long</th>\n",
       "      <th>Location</th>\n",
       "      <th>OFFENSE_CODE_GROUP_Clean</th>\n",
       "    </tr>\n",
       "  </thead>\n",
       "  <tbody>\n",
       "    <tr>\n",
       "      <th>0</th>\n",
       "      <td>I192074488</td>\n",
       "      <td>619</td>\n",
       "      <td>Larceny</td>\n",
       "      <td>LARCENY ALL OTHERS</td>\n",
       "      <td>C11</td>\n",
       "      <td>351</td>\n",
       "      <td>NaN</td>\n",
       "      <td>2017-08-23 00:00:00</td>\n",
       "      <td>2017</td>\n",
       "      <td>8</td>\n",
       "      <td>Wednesday</td>\n",
       "      <td>0</td>\n",
       "      <td>Part One</td>\n",
       "      <td>ADAMS ST</td>\n",
       "      <td>42.300605</td>\n",
       "      <td>-71.059230</td>\n",
       "      <td>(42.30060526, -71.05923027)</td>\n",
       "      <td>Larceny</td>\n",
       "    </tr>\n",
       "    <tr>\n",
       "      <th>1</th>\n",
       "      <td>I192073511</td>\n",
       "      <td>1107</td>\n",
       "      <td>Fraud</td>\n",
       "      <td>FRAUD - IMPERSONATION</td>\n",
       "      <td>B3</td>\n",
       "      <td>435</td>\n",
       "      <td>NaN</td>\n",
       "      <td>2017-02-21 00:01:00</td>\n",
       "      <td>2017</td>\n",
       "      <td>2</td>\n",
       "      <td>Tuesday</td>\n",
       "      <td>0</td>\n",
       "      <td>Part Two</td>\n",
       "      <td>ARMANDINE ST</td>\n",
       "      <td>42.284315</td>\n",
       "      <td>-71.074108</td>\n",
       "      <td>(42.28431486, -71.07410838)</td>\n",
       "      <td>Fraud</td>\n",
       "    </tr>\n",
       "    <tr>\n",
       "      <th>2</th>\n",
       "      <td>I192073187</td>\n",
       "      <td>2629</td>\n",
       "      <td>Harassment</td>\n",
       "      <td>HARASSMENT</td>\n",
       "      <td>C6</td>\n",
       "      <td>231</td>\n",
       "      <td>NaN</td>\n",
       "      <td>2017-07-13 00:00:00</td>\n",
       "      <td>2017</td>\n",
       "      <td>7</td>\n",
       "      <td>Thursday</td>\n",
       "      <td>0</td>\n",
       "      <td>Part Two</td>\n",
       "      <td>E FIFTH ST</td>\n",
       "      <td>42.333989</td>\n",
       "      <td>-71.032606</td>\n",
       "      <td>(42.33398889, -71.03260574)</td>\n",
       "      <td>Harassment</td>\n",
       "    </tr>\n",
       "    <tr>\n",
       "      <th>3</th>\n",
       "      <td>I192072907</td>\n",
       "      <td>802</td>\n",
       "      <td>Simple Assault</td>\n",
       "      <td>ASSAULT SIMPLE - BATTERY</td>\n",
       "      <td>D4</td>\n",
       "      <td>171</td>\n",
       "      <td>NaN</td>\n",
       "      <td>2017-09-01 16:32:00</td>\n",
       "      <td>2017</td>\n",
       "      <td>9</td>\n",
       "      <td>Friday</td>\n",
       "      <td>16</td>\n",
       "      <td>Part Two</td>\n",
       "      <td>HARRISON AVE</td>\n",
       "      <td>42.335119</td>\n",
       "      <td>-71.074917</td>\n",
       "      <td>(42.33511904, -71.07491710)</td>\n",
       "      <td>Simple Assault</td>\n",
       "    </tr>\n",
       "    <tr>\n",
       "      <th>4</th>\n",
       "      <td>I192072900</td>\n",
       "      <td>1102</td>\n",
       "      <td>Fraud</td>\n",
       "      <td>FRAUD - FALSE PRETENSE / SCHEME</td>\n",
       "      <td>D4</td>\n",
       "      <td>151</td>\n",
       "      <td>NaN</td>\n",
       "      <td>2017-09-01 00:00:00</td>\n",
       "      <td>2017</td>\n",
       "      <td>9</td>\n",
       "      <td>Friday</td>\n",
       "      <td>0</td>\n",
       "      <td>Part Two</td>\n",
       "      <td>WARREN AVE</td>\n",
       "      <td>42.345163</td>\n",
       "      <td>-71.071291</td>\n",
       "      <td>(42.34516350, -71.07129114)</td>\n",
       "      <td>Fraud</td>\n",
       "    </tr>\n",
       "    <tr>\n",
       "      <th>...</th>\n",
       "      <td>...</td>\n",
       "      <td>...</td>\n",
       "      <td>...</td>\n",
       "      <td>...</td>\n",
       "      <td>...</td>\n",
       "      <td>...</td>\n",
       "      <td>...</td>\n",
       "      <td>...</td>\n",
       "      <td>...</td>\n",
       "      <td>...</td>\n",
       "      <td>...</td>\n",
       "      <td>...</td>\n",
       "      <td>...</td>\n",
       "      <td>...</td>\n",
       "      <td>...</td>\n",
       "      <td>...</td>\n",
       "      <td>...</td>\n",
       "      <td>...</td>\n",
       "    </tr>\n",
       "    <tr>\n",
       "      <th>354374</th>\n",
       "      <td>121005808</td>\n",
       "      <td>1102</td>\n",
       "      <td>NaN</td>\n",
       "      <td>FRAUD - FALSE PRETENSE / SCHEME</td>\n",
       "      <td>B3</td>\n",
       "      <td>289</td>\n",
       "      <td>0</td>\n",
       "      <td>2021-01-19 12:00:00</td>\n",
       "      <td>2021</td>\n",
       "      <td>1</td>\n",
       "      <td>Tuesday</td>\n",
       "      <td>12</td>\n",
       "      <td>NaN</td>\n",
       "      <td>CLARKWOOD ST</td>\n",
       "      <td>42.333679</td>\n",
       "      <td>-71.091878</td>\n",
       "      <td>(42.3336792181085, -71.0918775461846)</td>\n",
       "      <td>Fraud</td>\n",
       "    </tr>\n",
       "    <tr>\n",
       "      <th>354375</th>\n",
       "      <td>121000816</td>\n",
       "      <td>3304</td>\n",
       "      <td>NaN</td>\n",
       "      <td>NOISY PARTY/RADIO-NO ARREST</td>\n",
       "      <td>E5</td>\n",
       "      <td>675</td>\n",
       "      <td>0</td>\n",
       "      <td>2021-01-04 00:00:00</td>\n",
       "      <td>2021</td>\n",
       "      <td>1</td>\n",
       "      <td>Monday</td>\n",
       "      <td>0</td>\n",
       "      <td>NaN</td>\n",
       "      <td>BRADFIELD AVENUE</td>\n",
       "      <td>0.000000</td>\n",
       "      <td>0.000000</td>\n",
       "      <td>(0, 0)</td>\n",
       "      <td>Assembly or Gathering Violations</td>\n",
       "    </tr>\n",
       "    <tr>\n",
       "      <th>354376</th>\n",
       "      <td>120221042</td>\n",
       "      <td>3006</td>\n",
       "      <td>NaN</td>\n",
       "      <td>SICK/INJURED/MEDICAL - PERSON</td>\n",
       "      <td>E5</td>\n",
       "      <td>680</td>\n",
       "      <td>0</td>\n",
       "      <td>2021-04-02 10:45:00</td>\n",
       "      <td>2021</td>\n",
       "      <td>4</td>\n",
       "      <td>Friday</td>\n",
       "      <td>10</td>\n",
       "      <td>NaN</td>\n",
       "      <td>WASHINGTON ST</td>\n",
       "      <td>42.283902</td>\n",
       "      <td>-71.130863</td>\n",
       "      <td>(42.2839024364831, -71.130862626435)</td>\n",
       "      <td>Medical Assistance</td>\n",
       "    </tr>\n",
       "    <tr>\n",
       "      <th>354377</th>\n",
       "      <td>10637224</td>\n",
       "      <td>3125</td>\n",
       "      <td>NaN</td>\n",
       "      <td>WARRANT ARREST - BOSTON WARRANT (MUST BE SUPPL...</td>\n",
       "      <td>D4</td>\n",
       "      <td>270</td>\n",
       "      <td>0</td>\n",
       "      <td>2021-01-26 18:54:00</td>\n",
       "      <td>2021</td>\n",
       "      <td>1</td>\n",
       "      <td>Tuesday</td>\n",
       "      <td>18</td>\n",
       "      <td>NaN</td>\n",
       "      <td>NORTHAMPTON ST</td>\n",
       "      <td>42.333951</td>\n",
       "      <td>-71.075389</td>\n",
       "      <td>(42.3339512483938, -71.0753893882269)</td>\n",
       "      <td>Warrant Arrests</td>\n",
       "    </tr>\n",
       "    <tr>\n",
       "      <th>354378</th>\n",
       "      <td>23844463</td>\n",
       "      <td>3115</td>\n",
       "      <td>NaN</td>\n",
       "      <td>INVESTIGATE PERSON</td>\n",
       "      <td>C6</td>\n",
       "      <td></td>\n",
       "      <td>0</td>\n",
       "      <td>2021-10-16 01:16:00</td>\n",
       "      <td>2021</td>\n",
       "      <td>10</td>\n",
       "      <td>Saturday</td>\n",
       "      <td>1</td>\n",
       "      <td>NaN</td>\n",
       "      <td>G ST &amp; E 8TH ST\\nBOSTON  MA 02127\\nUNITED STATES</td>\n",
       "      <td>42.331320</td>\n",
       "      <td>-71.044080</td>\n",
       "      <td>(42.3313200390092, -71.0440799616656)</td>\n",
       "      <td>Investigate Person</td>\n",
       "    </tr>\n",
       "  </tbody>\n",
       "</table>\n",
       "<p>354379 rows × 18 columns</p>\n",
       "</div>"
      ],
      "text/plain": [
       "       INCIDENT_NUMBER  OFFENSE_CODE OFFENSE_CODE_GROUP  \\\n",
       "0           I192074488           619            Larceny   \n",
       "1           I192073511          1107              Fraud   \n",
       "2           I192073187          2629         Harassment   \n",
       "3           I192072907           802     Simple Assault   \n",
       "4           I192072900          1102              Fraud   \n",
       "...                ...           ...                ...   \n",
       "354374       121005808          1102                NaN   \n",
       "354375       121000816          3304                NaN   \n",
       "354376       120221042          3006                NaN   \n",
       "354377        10637224          3125                NaN   \n",
       "354378        23844463          3115                NaN   \n",
       "\n",
       "                                      OFFENSE_DESCRIPTION DISTRICT  \\\n",
       "0                                      LARCENY ALL OTHERS      C11   \n",
       "1                                   FRAUD - IMPERSONATION       B3   \n",
       "2                                              HARASSMENT       C6   \n",
       "3                                ASSAULT SIMPLE - BATTERY       D4   \n",
       "4                         FRAUD - FALSE PRETENSE / SCHEME       D4   \n",
       "...                                                   ...      ...   \n",
       "354374                    FRAUD - FALSE PRETENSE / SCHEME       B3   \n",
       "354375                        NOISY PARTY/RADIO-NO ARREST       E5   \n",
       "354376                      SICK/INJURED/MEDICAL - PERSON       E5   \n",
       "354377  WARRANT ARREST - BOSTON WARRANT (MUST BE SUPPL...       D4   \n",
       "354378                                 INVESTIGATE PERSON       C6   \n",
       "\n",
       "       REPORTING_AREA SHOOTING     OCCURRED_ON_DATE  YEAR  MONTH DAY_OF_WEEK  \\\n",
       "0                 351      NaN  2017-08-23 00:00:00  2017      8   Wednesday   \n",
       "1                 435      NaN  2017-02-21 00:01:00  2017      2     Tuesday   \n",
       "2                 231      NaN  2017-07-13 00:00:00  2017      7    Thursday   \n",
       "3                 171      NaN  2017-09-01 16:32:00  2017      9      Friday   \n",
       "4                 151      NaN  2017-09-01 00:00:00  2017      9      Friday   \n",
       "...               ...      ...                  ...   ...    ...         ...   \n",
       "354374            289        0  2021-01-19 12:00:00  2021      1     Tuesday   \n",
       "354375            675        0  2021-01-04 00:00:00  2021      1      Monday   \n",
       "354376            680        0  2021-04-02 10:45:00  2021      4      Friday   \n",
       "354377            270        0  2021-01-26 18:54:00  2021      1     Tuesday   \n",
       "354378                       0  2021-10-16 01:16:00  2021     10    Saturday   \n",
       "\n",
       "        HOUR  UCR_PART                                            STREET  \\\n",
       "0          0  Part One                                          ADAMS ST   \n",
       "1          0  Part Two                                      ARMANDINE ST   \n",
       "2          0  Part Two                                        E FIFTH ST   \n",
       "3         16  Part Two                                      HARRISON AVE   \n",
       "4          0  Part Two                                        WARREN AVE   \n",
       "...      ...       ...                                               ...   \n",
       "354374    12       NaN                                      CLARKWOOD ST   \n",
       "354375     0       NaN                                  BRADFIELD AVENUE   \n",
       "354376    10       NaN                                     WASHINGTON ST   \n",
       "354377    18       NaN                                    NORTHAMPTON ST   \n",
       "354378     1       NaN  G ST & E 8TH ST\\nBOSTON  MA 02127\\nUNITED STATES   \n",
       "\n",
       "              Lat       Long                               Location  \\\n",
       "0       42.300605 -71.059230            (42.30060526, -71.05923027)   \n",
       "1       42.284315 -71.074108            (42.28431486, -71.07410838)   \n",
       "2       42.333989 -71.032606            (42.33398889, -71.03260574)   \n",
       "3       42.335119 -71.074917            (42.33511904, -71.07491710)   \n",
       "4       42.345163 -71.071291            (42.34516350, -71.07129114)   \n",
       "...           ...        ...                                    ...   \n",
       "354374  42.333679 -71.091878  (42.3336792181085, -71.0918775461846)   \n",
       "354375   0.000000   0.000000                                 (0, 0)   \n",
       "354376  42.283902 -71.130863   (42.2839024364831, -71.130862626435)   \n",
       "354377  42.333951 -71.075389  (42.3339512483938, -71.0753893882269)   \n",
       "354378  42.331320 -71.044080  (42.3313200390092, -71.0440799616656)   \n",
       "\n",
       "                OFFENSE_CODE_GROUP_Clean  \n",
       "0                                Larceny  \n",
       "1                                  Fraud  \n",
       "2                             Harassment  \n",
       "3                         Simple Assault  \n",
       "4                                  Fraud  \n",
       "...                                  ...  \n",
       "354374                             Fraud  \n",
       "354375  Assembly or Gathering Violations  \n",
       "354376                Medical Assistance  \n",
       "354377                   Warrant Arrests  \n",
       "354378                Investigate Person  \n",
       "\n",
       "[354379 rows x 18 columns]"
      ]
     },
     "execution_count": 131,
     "metadata": {},
     "output_type": "execute_result"
    }
   ],
   "source": [
    "crime_all_new = crime_all_new.rename(columns = {1: 'OFFENSE_CODE_GROUP_Clean'})\n",
    "crime_all_new = crime_all_new.drop(columns =[0])\n",
    "crime_all_new"
   ]
  },
  {
   "cell_type": "markdown",
   "id": "1ecd1231",
   "metadata": {},
   "source": [
    "Any missing values in 'OFFENSE_CODE_GROUP_Clean'?"
   ]
  },
  {
   "cell_type": "code",
   "execution_count": 132,
   "id": "5fe0c069",
   "metadata": {},
   "outputs": [
    {
     "data": {
      "text/plain": [
       "OFFENSE_CODE_GROUP_Clean    11065\n",
       "dtype: int64"
      ]
     },
     "execution_count": 132,
     "metadata": {},
     "output_type": "execute_result"
    }
   ],
   "source": [
    "crime_all_new[['OFFENSE_CODE_GROUP_Clean']].isnull().sum()"
   ]
  },
  {
   "cell_type": "markdown",
   "id": "371964aa",
   "metadata": {},
   "source": [
    "Yes. What are those values?"
   ]
  },
  {
   "cell_type": "code",
   "execution_count": 133,
   "id": "ed28f851",
   "metadata": {
    "scrolled": true
   },
   "outputs": [
    {
     "data": {
      "text/html": [
       "<div>\n",
       "<style scoped>\n",
       "    .dataframe tbody tr th:only-of-type {\n",
       "        vertical-align: middle;\n",
       "    }\n",
       "\n",
       "    .dataframe tbody tr th {\n",
       "        vertical-align: top;\n",
       "    }\n",
       "\n",
       "    .dataframe thead th {\n",
       "        text-align: right;\n",
       "    }\n",
       "</style>\n",
       "<table border=\"1\" class=\"dataframe\">\n",
       "  <thead>\n",
       "    <tr style=\"text-align: right;\">\n",
       "      <th></th>\n",
       "      <th>INCIDENT_NUMBER</th>\n",
       "      <th>OFFENSE_CODE</th>\n",
       "      <th>OFFENSE_CODE_GROUP</th>\n",
       "      <th>OFFENSE_DESCRIPTION</th>\n",
       "      <th>DISTRICT</th>\n",
       "      <th>REPORTING_AREA</th>\n",
       "      <th>SHOOTING</th>\n",
       "      <th>OCCURRED_ON_DATE</th>\n",
       "      <th>YEAR</th>\n",
       "      <th>MONTH</th>\n",
       "      <th>DAY_OF_WEEK</th>\n",
       "      <th>HOUR</th>\n",
       "      <th>UCR_PART</th>\n",
       "      <th>STREET</th>\n",
       "      <th>Lat</th>\n",
       "      <th>Long</th>\n",
       "      <th>Location</th>\n",
       "      <th>OFFENSE_CODE_GROUP_Clean</th>\n",
       "    </tr>\n",
       "  </thead>\n",
       "  <tbody>\n",
       "    <tr>\n",
       "      <th>200262</th>\n",
       "      <td>192103136</td>\n",
       "      <td>3005</td>\n",
       "      <td>NaN</td>\n",
       "      <td>SICK ASSIST</td>\n",
       "      <td>B2</td>\n",
       "      <td>586</td>\n",
       "      <td>0</td>\n",
       "      <td>2019-12-23 13:55:00</td>\n",
       "      <td>2019</td>\n",
       "      <td>12</td>\n",
       "      <td>Monday</td>\n",
       "      <td>13</td>\n",
       "      <td>NaN</td>\n",
       "      <td>CALUMET ST</td>\n",
       "      <td>42.329029</td>\n",
       "      <td>-71.100931</td>\n",
       "      <td>(42.3290285860184, -71.1009306016475)</td>\n",
       "      <td>NaN</td>\n",
       "    </tr>\n",
       "    <tr>\n",
       "      <th>200263</th>\n",
       "      <td>192102800</td>\n",
       "      <td>3005</td>\n",
       "      <td>NaN</td>\n",
       "      <td>SICK ASSIST</td>\n",
       "      <td>E13</td>\n",
       "      <td>572</td>\n",
       "      <td>0</td>\n",
       "      <td>2019-12-22 04:42:00</td>\n",
       "      <td>2019</td>\n",
       "      <td>12</td>\n",
       "      <td>Sunday</td>\n",
       "      <td>4</td>\n",
       "      <td>NaN</td>\n",
       "      <td>WALNUT AVE</td>\n",
       "      <td>42.311399</td>\n",
       "      <td>-71.097809</td>\n",
       "      <td>(42.3113989325761, -71.0978089252326)</td>\n",
       "      <td>NaN</td>\n",
       "    </tr>\n",
       "    <tr>\n",
       "      <th>200264</th>\n",
       "      <td>192101418</td>\n",
       "      <td>3005</td>\n",
       "      <td>NaN</td>\n",
       "      <td>SICK ASSIST</td>\n",
       "      <td>A1</td>\n",
       "      <td>79</td>\n",
       "      <td>0</td>\n",
       "      <td>2019-12-16 18:17:00</td>\n",
       "      <td>2019</td>\n",
       "      <td>12</td>\n",
       "      <td>Monday</td>\n",
       "      <td>18</td>\n",
       "      <td>NaN</td>\n",
       "      <td>COURT ST</td>\n",
       "      <td>42.366600</td>\n",
       "      <td>-71.058953</td>\n",
       "      <td>(42.3665995211601, -71.0589533892022)</td>\n",
       "      <td>NaN</td>\n",
       "    </tr>\n",
       "    <tr>\n",
       "      <th>200265</th>\n",
       "      <td>192098958</td>\n",
       "      <td>3005</td>\n",
       "      <td>NaN</td>\n",
       "      <td>SICK ASSIST</td>\n",
       "      <td>B3</td>\n",
       "      <td>469</td>\n",
       "      <td>0</td>\n",
       "      <td>2019-12-08 22:50:00</td>\n",
       "      <td>2019</td>\n",
       "      <td>12</td>\n",
       "      <td>Sunday</td>\n",
       "      <td>22</td>\n",
       "      <td>NaN</td>\n",
       "      <td>MATTAPAN ST</td>\n",
       "      <td>42.278427</td>\n",
       "      <td>-71.096371</td>\n",
       "      <td>(42.2784271927785, -71.0963712540527)</td>\n",
       "      <td>NaN</td>\n",
       "    </tr>\n",
       "    <tr>\n",
       "      <th>200269</th>\n",
       "      <td>192095743</td>\n",
       "      <td>3005</td>\n",
       "      <td>NaN</td>\n",
       "      <td>SICK ASSIST</td>\n",
       "      <td>D14</td>\n",
       "      <td>814</td>\n",
       "      <td>0</td>\n",
       "      <td>2019-11-26 14:15:00</td>\n",
       "      <td>2019</td>\n",
       "      <td>11</td>\n",
       "      <td>Tuesday</td>\n",
       "      <td>14</td>\n",
       "      <td>NaN</td>\n",
       "      <td>WESTERN AVE</td>\n",
       "      <td>42.363422</td>\n",
       "      <td>-71.126983</td>\n",
       "      <td>(42.3634215049841, -71.1269832594745)</td>\n",
       "      <td>NaN</td>\n",
       "    </tr>\n",
       "    <tr>\n",
       "      <th>...</th>\n",
       "      <td>...</td>\n",
       "      <td>...</td>\n",
       "      <td>...</td>\n",
       "      <td>...</td>\n",
       "      <td>...</td>\n",
       "      <td>...</td>\n",
       "      <td>...</td>\n",
       "      <td>...</td>\n",
       "      <td>...</td>\n",
       "      <td>...</td>\n",
       "      <td>...</td>\n",
       "      <td>...</td>\n",
       "      <td>...</td>\n",
       "      <td>...</td>\n",
       "      <td>...</td>\n",
       "      <td>...</td>\n",
       "      <td>...</td>\n",
       "      <td>...</td>\n",
       "    </tr>\n",
       "    <tr>\n",
       "      <th>354316</th>\n",
       "      <td>210209451</td>\n",
       "      <td>3005</td>\n",
       "      <td>NaN</td>\n",
       "      <td>SICK ASSIST</td>\n",
       "      <td>C11</td>\n",
       "      <td>355</td>\n",
       "      <td>0</td>\n",
       "      <td>2021-05-14 00:30:00</td>\n",
       "      <td>2021</td>\n",
       "      <td>5</td>\n",
       "      <td>Friday</td>\n",
       "      <td>0</td>\n",
       "      <td>NaN</td>\n",
       "      <td>GIBSON ST</td>\n",
       "      <td>42.297555</td>\n",
       "      <td>-71.059709</td>\n",
       "      <td>(42.2975553295965, -71.0597091024257)</td>\n",
       "      <td>NaN</td>\n",
       "    </tr>\n",
       "    <tr>\n",
       "      <th>354323</th>\n",
       "      <td>210149826</td>\n",
       "      <td>3005</td>\n",
       "      <td>NaN</td>\n",
       "      <td>SICK ASSIST</td>\n",
       "      <td>D4</td>\n",
       "      <td>130</td>\n",
       "      <td>0</td>\n",
       "      <td>2021-04-08 04:33:00</td>\n",
       "      <td>2021</td>\n",
       "      <td>4</td>\n",
       "      <td>Thursday</td>\n",
       "      <td>4</td>\n",
       "      <td>NaN</td>\n",
       "      <td>CLARENDON ST</td>\n",
       "      <td>42.347713</td>\n",
       "      <td>-71.073749</td>\n",
       "      <td>(42.3477128706277, -71.0737493346172)</td>\n",
       "      <td>NaN</td>\n",
       "    </tr>\n",
       "    <tr>\n",
       "      <th>354335</th>\n",
       "      <td>210082155</td>\n",
       "      <td>3005</td>\n",
       "      <td>NaN</td>\n",
       "      <td>SICK ASSIST</td>\n",
       "      <td>A7</td>\n",
       "      <td>824</td>\n",
       "      <td>0</td>\n",
       "      <td>2021-02-25 21:38:00</td>\n",
       "      <td>2021</td>\n",
       "      <td>2</td>\n",
       "      <td>Thursday</td>\n",
       "      <td>21</td>\n",
       "      <td>NaN</td>\n",
       "      <td>LEXINGTON ST</td>\n",
       "      <td>42.379876</td>\n",
       "      <td>-71.031718</td>\n",
       "      <td>(42.3798758859433, -71.0317180878969)</td>\n",
       "      <td>NaN</td>\n",
       "    </tr>\n",
       "    <tr>\n",
       "      <th>354354</th>\n",
       "      <td>210020280</td>\n",
       "      <td>3005</td>\n",
       "      <td>NaN</td>\n",
       "      <td>SICK ASSIST</td>\n",
       "      <td>A7</td>\n",
       "      <td>28</td>\n",
       "      <td>0</td>\n",
       "      <td>2021-01-02 20:45:00</td>\n",
       "      <td>2021</td>\n",
       "      <td>1</td>\n",
       "      <td>Saturday</td>\n",
       "      <td>20</td>\n",
       "      <td>NaN</td>\n",
       "      <td>GOVE ST</td>\n",
       "      <td>42.372159</td>\n",
       "      <td>-71.038524</td>\n",
       "      <td>(42.3721588029014, -71.03852378203)</td>\n",
       "      <td>NaN</td>\n",
       "    </tr>\n",
       "    <tr>\n",
       "      <th>354358</th>\n",
       "      <td>210013706</td>\n",
       "      <td>3126</td>\n",
       "      <td>NaN</td>\n",
       "      <td>WARRANT ARREST - OUTSIDE OF BOSTON WARRANT</td>\n",
       "      <td>C6</td>\n",
       "      <td>175</td>\n",
       "      <td>0</td>\n",
       "      <td>2021-10-07 09:23:00</td>\n",
       "      <td>2021</td>\n",
       "      <td>10</td>\n",
       "      <td>Thursday</td>\n",
       "      <td>9</td>\n",
       "      <td>NaN</td>\n",
       "      <td>SOUTHAMPTON ST</td>\n",
       "      <td>42.332108</td>\n",
       "      <td>-71.070144</td>\n",
       "      <td>(42.3321084294949, -71.0701439481355)</td>\n",
       "      <td>NaN</td>\n",
       "    </tr>\n",
       "  </tbody>\n",
       "</table>\n",
       "<p>11065 rows × 18 columns</p>\n",
       "</div>"
      ],
      "text/plain": [
       "       INCIDENT_NUMBER  OFFENSE_CODE OFFENSE_CODE_GROUP  \\\n",
       "200262       192103136          3005                NaN   \n",
       "200263       192102800          3005                NaN   \n",
       "200264       192101418          3005                NaN   \n",
       "200265       192098958          3005                NaN   \n",
       "200269       192095743          3005                NaN   \n",
       "...                ...           ...                ...   \n",
       "354316       210209451          3005                NaN   \n",
       "354323       210149826          3005                NaN   \n",
       "354335       210082155          3005                NaN   \n",
       "354354       210020280          3005                NaN   \n",
       "354358       210013706          3126                NaN   \n",
       "\n",
       "                               OFFENSE_DESCRIPTION DISTRICT REPORTING_AREA  \\\n",
       "200262                                 SICK ASSIST       B2            586   \n",
       "200263                                 SICK ASSIST      E13            572   \n",
       "200264                                 SICK ASSIST       A1             79   \n",
       "200265                                 SICK ASSIST       B3            469   \n",
       "200269                                 SICK ASSIST      D14            814   \n",
       "...                                            ...      ...            ...   \n",
       "354316                                 SICK ASSIST      C11            355   \n",
       "354323                                 SICK ASSIST       D4            130   \n",
       "354335                                 SICK ASSIST       A7            824   \n",
       "354354                                 SICK ASSIST       A7             28   \n",
       "354358  WARRANT ARREST - OUTSIDE OF BOSTON WARRANT       C6            175   \n",
       "\n",
       "       SHOOTING     OCCURRED_ON_DATE  YEAR  MONTH DAY_OF_WEEK  HOUR UCR_PART  \\\n",
       "200262        0  2019-12-23 13:55:00  2019     12      Monday    13      NaN   \n",
       "200263        0  2019-12-22 04:42:00  2019     12      Sunday     4      NaN   \n",
       "200264        0  2019-12-16 18:17:00  2019     12      Monday    18      NaN   \n",
       "200265        0  2019-12-08 22:50:00  2019     12      Sunday    22      NaN   \n",
       "200269        0  2019-11-26 14:15:00  2019     11     Tuesday    14      NaN   \n",
       "...         ...                  ...   ...    ...         ...   ...      ...   \n",
       "354316        0  2021-05-14 00:30:00  2021      5      Friday     0      NaN   \n",
       "354323        0  2021-04-08 04:33:00  2021      4    Thursday     4      NaN   \n",
       "354335        0  2021-02-25 21:38:00  2021      2    Thursday    21      NaN   \n",
       "354354        0  2021-01-02 20:45:00  2021      1    Saturday    20      NaN   \n",
       "354358        0  2021-10-07 09:23:00  2021     10    Thursday     9      NaN   \n",
       "\n",
       "                STREET        Lat       Long  \\\n",
       "200262      CALUMET ST  42.329029 -71.100931   \n",
       "200263      WALNUT AVE  42.311399 -71.097809   \n",
       "200264        COURT ST  42.366600 -71.058953   \n",
       "200265     MATTAPAN ST  42.278427 -71.096371   \n",
       "200269     WESTERN AVE  42.363422 -71.126983   \n",
       "...                ...        ...        ...   \n",
       "354316       GIBSON ST  42.297555 -71.059709   \n",
       "354323    CLARENDON ST  42.347713 -71.073749   \n",
       "354335    LEXINGTON ST  42.379876 -71.031718   \n",
       "354354         GOVE ST  42.372159 -71.038524   \n",
       "354358  SOUTHAMPTON ST  42.332108 -71.070144   \n",
       "\n",
       "                                     Location OFFENSE_CODE_GROUP_Clean  \n",
       "200262  (42.3290285860184, -71.1009306016475)                      NaN  \n",
       "200263  (42.3113989325761, -71.0978089252326)                      NaN  \n",
       "200264  (42.3665995211601, -71.0589533892022)                      NaN  \n",
       "200265  (42.2784271927785, -71.0963712540527)                      NaN  \n",
       "200269  (42.3634215049841, -71.1269832594745)                      NaN  \n",
       "...                                       ...                      ...  \n",
       "354316  (42.2975553295965, -71.0597091024257)                      NaN  \n",
       "354323  (42.3477128706277, -71.0737493346172)                      NaN  \n",
       "354335  (42.3798758859433, -71.0317180878969)                      NaN  \n",
       "354354    (42.3721588029014, -71.03852378203)                      NaN  \n",
       "354358  (42.3321084294949, -71.0701439481355)                      NaN  \n",
       "\n",
       "[11065 rows x 18 columns]"
      ]
     },
     "execution_count": 133,
     "metadata": {},
     "output_type": "execute_result"
    }
   ],
   "source": [
    "crime_all_new_missing = crime_all_new[crime_all_new['OFFENSE_CODE_GROUP_Clean'].isnull()]\n",
    "crime_all_new_missing"
   ]
  },
  {
   "cell_type": "code",
   "execution_count": 134,
   "id": "08d165ba",
   "metadata": {
    "scrolled": true
   },
   "outputs": [
    {
     "data": {
      "text/plain": [
       "3005     9504\n",
       "3126      748\n",
       "641       127\n",
       "2671       82\n",
       "531        70\n",
       "736        66\n",
       "600        63\n",
       "3300       62\n",
       "1800       54\n",
       "400        52\n",
       "800        38\n",
       "2600       33\n",
       "500        26\n",
       "2950       20\n",
       "1400       17\n",
       "3000       16\n",
       "1500       11\n",
       "3200       11\n",
       "300        11\n",
       "3100       11\n",
       "1100       10\n",
       "700         8\n",
       "650         8\n",
       "100         5\n",
       "1000        4\n",
       "2400        2\n",
       "990         2\n",
       "3350        1\n",
       "750         1\n",
       "1200        1\n",
       "99999       1\n",
       "Name: OFFENSE_CODE, dtype: int64"
      ]
     },
     "execution_count": 134,
     "metadata": {},
     "output_type": "execute_result"
    }
   ],
   "source": [
    "crime_all_new[crime_all_new['OFFENSE_CODE_GROUP_Clean'].isnull()]['OFFENSE_CODE'].value_counts()"
   ]
  },
  {
   "cell_type": "code",
   "execution_count": 135,
   "id": "d1104028",
   "metadata": {},
   "outputs": [
    {
     "data": {
      "text/plain": [
       "0.03122363345457829"
      ]
     },
     "execution_count": 135,
     "metadata": {},
     "output_type": "execute_result"
    }
   ],
   "source": [
    "crime_all_new_missing.shape[0] / crime_all_new.shape[0]"
   ]
  },
  {
   "cell_type": "markdown",
   "id": "0ab4f29f",
   "metadata": {},
   "source": [
    "Information about those values above cannot be found eight in data dictionary or datasets. Those values consist about three percent of the whole dataset. For the visualization purpose, I will exclude those values."
   ]
  },
  {
   "cell_type": "code",
   "execution_count": 136,
   "id": "4bdd6285",
   "metadata": {},
   "outputs": [],
   "source": [
    "crime_all_new = crime_all_new[crime_all_new['OFFENSE_CODE_GROUP_Clean'].notnull()]"
   ]
  },
  {
   "cell_type": "markdown",
   "id": "e96eb705",
   "metadata": {
    "scrolled": true
   },
   "source": [
    "# Visualization"
   ]
  },
  {
   "cell_type": "code",
   "execution_count": 137,
   "id": "acd85d14",
   "metadata": {
    "scrolled": true
   },
   "outputs": [
    {
     "data": {
      "text/plain": [
       "Text(0.5, 1.0, 'Number of crimes by Year')"
      ]
     },
     "execution_count": 137,
     "metadata": {},
     "output_type": "execute_result"
    },
    {
     "data": {
      "image/png": "[encoded data removed]",
      "text/plain": [
       "<Figure size 720x360 with 1 Axes>"
      ]
     },
     "metadata": {},
     "output_type": "display_data"
    }
   ],
   "source": [
    "p = sns.countplot(x = crime_all_new['YEAR'])\n",
    "p.set_title('Number of crimes by Year')"
   ]
  },
  {
   "cell_type": "code",
   "execution_count": 138,
   "id": "7fde88e5",
   "metadata": {},
   "outputs": [],
   "source": [
    "top_ten_crime = crime_all_new['OFFENSE_CODE_GROUP_Clean'].value_counts().head(20)"
   ]
  },
  {
   "cell_type": "markdown",
   "id": "6aa4823c",
   "metadata": {},
   "source": [
    "Top twenty Crime and its number occurred in five years."
   ]
  },
  {
   "cell_type": "code",
   "execution_count": 139,
   "id": "4486a5d8",
   "metadata": {
    "scrolled": false
   },
   "outputs": [
    {
     "data": {
      "text/plain": [
       "Motor Vehicle Accident Response    44172\n",
       "Larceny                            29474\n",
       "Medical Assistance                 24394\n",
       "Investigate Person                 24342\n",
       "Vandalism                          16279\n",
       "Simple Assault                     16131\n",
       "Other                              16085\n",
       "Investigate Property               14980\n",
       "Drug Violation                     14528\n",
       "Towed                              13878\n",
       "Larceny From Motor Vehicle         12257\n",
       "Verbal Disputes                    12118\n",
       "Property Lost                      10976\n",
       "Fraud                               9660\n",
       "Aggravated Assault                  8525\n",
       "Violations                          6735\n",
       "Warrant Arrests                     5718\n",
       "Missing Person Located              5656\n",
       "Auto Theft                          5532\n",
       "Residential Burglary                4743\n",
       "Name: OFFENSE_CODE_GROUP_Clean, dtype: int64"
      ]
     },
     "execution_count": 139,
     "metadata": {},
     "output_type": "execute_result"
    }
   ],
   "source": [
    "top_ten_crime"
   ]
  },
  {
   "cell_type": "code",
   "execution_count": 140,
   "id": "86719115",
   "metadata": {},
   "outputs": [
    {
     "data": {
      "text/plain": [
       "Text(0, 0.5, 'Crime Category')"
      ]
     },
     "execution_count": 140,
     "metadata": {},
     "output_type": "execute_result"
    },
    {
     "data": {
      "image/png": "[encoded data removed]",
      "text/plain": [
       "<Figure size 720x360 with 1 Axes>"
      ]
     },
     "metadata": {},
     "output_type": "display_data"
    }
   ],
   "source": [
    "top_20_df = crime_all_new.groupby('OFFENSE_CODE_GROUP_Clean').count().sort_values('INCIDENT_NUMBER', ascending = False)[['INCIDENT_NUMBER']].head(20).reset_index()\n",
    "bar = sns.barplot(y = 'OFFENSE_CODE_GROUP_Clean',x = 'INCIDENT_NUMBER', data = top_20_df, orient = 'h')\n",
    "sns.set(rc={\"figure.figsize\":(7, 4)})\n",
    "bar.set_title('Top Twenty Crimes Happened Within 5 Years')\n",
    "bar.set_xlabel('# of Crimes')\n",
    "bar.set_ylabel('Crime Category')"
   ]
  },
  {
   "cell_type": "code",
   "execution_count": 141,
   "id": "fa93fa3f",
   "metadata": {},
   "outputs": [
    {
     "data": {
      "text/html": [
       "<div>\n",
       "<style scoped>\n",
       "    .dataframe tbody tr th:only-of-type {\n",
       "        vertical-align: middle;\n",
       "    }\n",
       "\n",
       "    .dataframe tbody tr th {\n",
       "        vertical-align: top;\n",
       "    }\n",
       "\n",
       "    .dataframe thead th {\n",
       "        text-align: right;\n",
       "    }\n",
       "</style>\n",
       "<table border=\"1\" class=\"dataframe\">\n",
       "  <thead>\n",
       "    <tr style=\"text-align: right;\">\n",
       "      <th></th>\n",
       "      <th>DAY_OF_WEEK</th>\n",
       "      <th>INCIDENT_NUMBER</th>\n",
       "    </tr>\n",
       "  </thead>\n",
       "  <tbody>\n",
       "    <tr>\n",
       "      <th>0</th>\n",
       "      <td>Friday</td>\n",
       "      <td>52251</td>\n",
       "    </tr>\n",
       "    <tr>\n",
       "      <th>1</th>\n",
       "      <td>Monday</td>\n",
       "      <td>49420</td>\n",
       "    </tr>\n",
       "    <tr>\n",
       "      <th>2</th>\n",
       "      <td>Saturday</td>\n",
       "      <td>48336</td>\n",
       "    </tr>\n",
       "    <tr>\n",
       "      <th>3</th>\n",
       "      <td>Sunday</td>\n",
       "      <td>43771</td>\n",
       "    </tr>\n",
       "    <tr>\n",
       "      <th>4</th>\n",
       "      <td>Thursday</td>\n",
       "      <td>49875</td>\n",
       "    </tr>\n",
       "    <tr>\n",
       "      <th>5</th>\n",
       "      <td>Tuesday</td>\n",
       "      <td>49333</td>\n",
       "    </tr>\n",
       "    <tr>\n",
       "      <th>6</th>\n",
       "      <td>Wednesday</td>\n",
       "      <td>50328</td>\n",
       "    </tr>\n",
       "  </tbody>\n",
       "</table>\n",
       "</div>"
      ],
      "text/plain": [
       "  DAY_OF_WEEK  INCIDENT_NUMBER\n",
       "0      Friday            52251\n",
       "1      Monday            49420\n",
       "2    Saturday            48336\n",
       "3      Sunday            43771\n",
       "4    Thursday            49875\n",
       "5     Tuesday            49333\n",
       "6   Wednesday            50328"
      ]
     },
     "execution_count": 141,
     "metadata": {},
     "output_type": "execute_result"
    }
   ],
   "source": [
    "days = crime_all_new.groupby('DAY_OF_WEEK').count()[['INCIDENT_NUMBER']].reset_index()\n",
    "days"
   ]
  },
  {
   "cell_type": "code",
   "execution_count": 142,
   "id": "d9b38db4",
   "metadata": {},
   "outputs": [
    {
     "data": {
      "application/vnd.plotly.v1+json": {
       "config": {
        "plotlyServerURL": "https://plot.ly"
       },
       "data": [
        {
         "hole": 0.4,
         "labels": [
          "Friday",
          "Monday",
          "Saturday",
          "Sunday",
          "Thursday",
          "Tuesday",
          "Wednesday"
         ],
         "type": "pie",
         "values": [
          52251,
          49420,
          48336,
          43771,
          49875,
          49333,
          50328
         ]
        }
       ],
       "layout": {
        "template": {
         "data": {
          "bar": [
           {
            "error_x": {
             "color": "#2a3f5f"
            },
            "error_y": {
             "color": "#2a3f5f"
            },
            "marker": {
             "line": {
              "color": "#E5ECF6",
              "width": 0.5
             },
             "pattern": {
              "fillmode": "overlay",
              "size": 10,
              "solidity": 0.2
             }
            },
            "type": "bar"
           }
          ],
          "barpolar": [
           {
            "marker": {
             "line": {
              "color": "#E5ECF6",
              "width": 0.5
             },
             "pattern": {
              "fillmode": "overlay",
              "size": 10,
              "solidity": 0.2
             }
            },
            "type": "barpolar"
           }
          ],
          "carpet": [
           {
            "aaxis": {
             "endlinecolor": "#2a3f5f",
             "gridcolor": "white",
             "linecolor": "white",
             "minorgridcolor": "white",
             "startlinecolor": "#2a3f5f"
            },
            "baxis": {
             "endlinecolor": "#2a3f5f",
             "gridcolor": "white",
             "linecolor": "white",
             "minorgridcolor": "white",
             "startlinecolor": "#2a3f5f"
            },
            "type": "carpet"
           }
          ],
          "choropleth": [
           {
            "colorbar": {
             "outlinewidth": 0,
             "ticks": ""
            },
            "type": "choropleth"
           }
          ],
          "contour": [
           {
            "colorbar": {
             "outlinewidth": 0,
             "ticks": ""
            },
            "colorscale": [
             [
              0,
              "#0d0887"
             ],
             [
              0.1111111111111111,
              "#46039f"
             ],
             [
              0.2222222222222222,
              "#7201a8"
             ],
             [
              0.3333333333333333,
              "#9c179e"
             ],
             [
              0.4444444444444444,
              "#bd3786"
             ],
             [
              0.5555555555555556,
              "#d8576b"
             ],
             [
              0.6666666666666666,
              "#ed7953"
             ],
             [
              0.7777777777777778,
              "#fb9f3a"
             ],
             [
              0.8888888888888888,
              "#fdca26"
             ],
             [
              1,
              "#f0f921"
             ]
            ],
            "type": "contour"
           }
          ],
          "contourcarpet": [
           {
            "colorbar": {
             "outlinewidth": 0,
             "ticks": ""
            },
            "type": "contourcarpet"
           }
          ],
          "heatmap": [
           {
            "colorbar": {
             "outlinewidth": 0,
             "ticks": ""
            },
            "colorscale": [
             [
              0,
              "#0d0887"
             ],
             [
              0.1111111111111111,
              "#46039f"
             ],
             [
              0.2222222222222222,
              "#7201a8"
             ],
             [
              0.3333333333333333,
              "#9c179e"
             ],
             [
              0.4444444444444444,
              "#bd3786"
             ],
             [
              0.5555555555555556,
              "#d8576b"
             ],
             [
              0.6666666666666666,
              "#ed7953"
             ],
             [
              0.7777777777777778,
              "#fb9f3a"
             ],
             [
              0.8888888888888888,
              "#fdca26"
             ],
             [
              1,
              "#f0f921"
             ]
            ],
            "type": "heatmap"
           }
          ],
          "heatmapgl": [
           {
            "colorbar": {
             "outlinewidth": 0,
             "ticks": ""
            },
            "colorscale": [
             [
              0,
              "#0d0887"
             ],
             [
              0.1111111111111111,
              "#46039f"
             ],
             [
              0.2222222222222222,
              "#7201a8"
             ],
             [
              0.3333333333333333,
              "#9c179e"
             ],
             [
              0.4444444444444444,
              "#bd3786"
             ],
             [
              0.5555555555555556,
              "#d8576b"
             ],
             [
              0.6666666666666666,
              "#ed7953"
             ],
             [
              0.7777777777777778,
              "#fb9f3a"
             ],
             [
              0.8888888888888888,
              "#fdca26"
             ],
             [
              1,
              "#f0f921"
             ]
            ],
            "type": "heatmapgl"
           }
          ],
          "histogram": [
           {
            "marker": {
             "pattern": {
              "fillmode": "overlay",
              "size": 10,
              "solidity": 0.2
             }
            },
            "type": "histogram"
           }
          ],
          "histogram2d": [
           {
            "colorbar": {
             "outlinewidth": 0,
             "ticks": ""
            },
            "colorscale": [
             [
              0,
              "#0d0887"
             ],
             [
              0.1111111111111111,
              "#46039f"
             ],
             [
              0.2222222222222222,
              "#7201a8"
             ],
             [
              0.3333333333333333,
              "#9c179e"
             ],
             [
              0.4444444444444444,
              "#bd3786"
             ],
             [
              0.5555555555555556,
              "#d8576b"
             ],
             [
              0.6666666666666666,
              "#ed7953"
             ],
             [
              0.7777777777777778,
              "#fb9f3a"
             ],
             [
              0.8888888888888888,
              "#fdca26"
             ],
             [
              1,
              "#f0f921"
             ]
            ],
            "type": "histogram2d"
           }
          ],
          "histogram2dcontour": [
           {
            "colorbar": {
             "outlinewidth": 0,
             "ticks": ""
            },
            "colorscale": [
             [
              0,
              "#0d0887"
             ],
             [
              0.1111111111111111,
              "#46039f"
             ],
             [
              0.2222222222222222,
              "#7201a8"
             ],
             [
              0.3333333333333333,
              "#9c179e"
             ],
             [
              0.4444444444444444,
              "#bd3786"
             ],
             [
              0.5555555555555556,
              "#d8576b"
             ],
             [
              0.6666666666666666,
              "#ed7953"
             ],
             [
              0.7777777777777778,
              "#fb9f3a"
             ],
             [
              0.8888888888888888,
              "#fdca26"
             ],
             [
              1,
              "#f0f921"
             ]
            ],
            "type": "histogram2dcontour"
           }
          ],
          "mesh3d": [
           {
            "colorbar": {
             "outlinewidth": 0,
             "ticks": ""
            },
            "type": "mesh3d"
           }
          ],
          "parcoords": [
           {
            "line": {
             "colorbar": {
              "outlinewidth": 0,
              "ticks": ""
             }
            },
            "type": "parcoords"
           }
          ],
          "pie": [
           {
            "automargin": true,
            "type": "pie"
           }
          ],
          "scatter": [
           {
            "marker": {
             "colorbar": {
              "outlinewidth": 0,
              "ticks": ""
             }
            },
            "type": "scatter"
           }
          ],
          "scatter3d": [
           {
            "line": {
             "colorbar": {
              "outlinewidth": 0,
              "ticks": ""
             }
            },
            "marker": {
             "colorbar": {
              "outlinewidth": 0,
              "ticks": ""
             }
            },
            "type": "scatter3d"
           }
          ],
          "scattercarpet": [
           {
            "marker": {
             "colorbar": {
              "outlinewidth": 0,
              "ticks": ""
             }
            },
            "type": "scattercarpet"
           }
          ],
          "scattergeo": [
           {
            "marker": {
             "colorbar": {
              "outlinewidth": 0,
              "ticks": ""
             }
            },
            "type": "scattergeo"
           }
          ],
          "scattergl": [
           {
            "marker": {
             "colorbar": {
              "outlinewidth": 0,
              "ticks": ""
             }
            },
            "type": "scattergl"
           }
          ],
          "scattermapbox": [
           {
            "marker": {
             "colorbar": {
              "outlinewidth": 0,
              "ticks": ""
             }
            },
            "type": "scattermapbox"
           }
          ],
          "scatterpolar": [
           {
            "marker": {
             "colorbar": {
              "outlinewidth": 0,
              "ticks": ""
             }
            },
            "type": "scatterpolar"
           }
          ],
          "scatterpolargl": [
           {
            "marker": {
             "colorbar": {
              "outlinewidth": 0,
              "ticks": ""
             }
            },
            "type": "scatterpolargl"
           }
          ],
          "scatterternary": [
           {
            "marker": {
             "colorbar": {
              "outlinewidth": 0,
              "ticks": ""
             }
            },
            "type": "scatterternary"
           }
          ],
          "surface": [
           {
            "colorbar": {
             "outlinewidth": 0,
             "ticks": ""
            },
            "colorscale": [
             [
              0,
              "#0d0887"
             ],
             [
              0.1111111111111111,
              "#46039f"
             ],
             [
              0.2222222222222222,
              "#7201a8"
             ],
             [
              0.3333333333333333,
              "#9c179e"
             ],
             [
              0.4444444444444444,
              "#bd3786"
             ],
             [
              0.5555555555555556,
              "#d8576b"
             ],
             [
              0.6666666666666666,
              "#ed7953"
             ],
             [
              0.7777777777777778,
              "#fb9f3a"
             ],
             [
              0.8888888888888888,
              "#fdca26"
             ],
             [
              1,
              "#f0f921"
             ]
            ],
            "type": "surface"
           }
          ],
          "table": [
           {
            "cells": {
             "fill": {
              "color": "#EBF0F8"
             },
             "line": {
              "color": "white"
             }
            },
            "header": {
             "fill": {
              "color": "#C8D4E3"
             },
             "line": {
              "color": "white"
             }
            },
            "type": "table"
           }
          ]
         },
         "layout": {
          "annotationdefaults": {
           "arrowcolor": "#2a3f5f",
           "arrowhead": 0,
           "arrowwidth": 1
          },
          "autotypenumbers": "strict",
          "coloraxis": {
           "colorbar": {
            "outlinewidth": 0,
            "ticks": ""
           }
          },
          "colorscale": {
           "diverging": [
            [
             0,
             "#8e0152"
            ],
            [
             0.1,
             "#c51b7d"
            ],
            [
             0.2,
             "#de77ae"
            ],
            [
             0.3,
             "#f1b6da"
            ],
            [
             0.4,
             "#fde0ef"
            ],
            [
             0.5,
             "#f7f7f7"
            ],
            [
             0.6,
             "#e6f5d0"
            ],
            [
             0.7,
             "#b8e186"
            ],
            [
             0.8,
             "#7fbc41"
            ],
            [
             0.9,
             "#4d9221"
            ],
            [
             1,
             "#276419"
            ]
           ],
           "sequential": [
            [
             0,
             "#0d0887"
            ],
            [
             0.1111111111111111,
             "#46039f"
            ],
            [
             0.2222222222222222,
             "#7201a8"
            ],
            [
             0.3333333333333333,
             "#9c179e"
            ],
            [
             0.4444444444444444,
             "#bd3786"
            ],
            [
             0.5555555555555556,
             "#d8576b"
            ],
            [
             0.6666666666666666,
             "#ed7953"
            ],
            [
             0.7777777777777778,
             "#fb9f3a"
            ],
            [
             0.8888888888888888,
             "#fdca26"
            ],
            [
             1,
             "#f0f921"
            ]
           ],
           "sequentialminus": [
            [
             0,
             "#0d0887"
            ],
            [
             0.1111111111111111,
             "#46039f"
            ],
            [
             0.2222222222222222,
             "#7201a8"
            ],
            [
             0.3333333333333333,
             "#9c179e"
            ],
            [
             0.4444444444444444,
             "#bd3786"
            ],
            [
             0.5555555555555556,
             "#d8576b"
            ],
            [
             0.6666666666666666,
             "#ed7953"
            ],
            [
             0.7777777777777778,
             "#fb9f3a"
            ],
            [
             0.8888888888888888,
             "#fdca26"
            ],
            [
             1,
             "#f0f921"
            ]
           ]
          },
          "colorway": [
           "#636efa",
           "#EF553B",
           "#00cc96",
           "#ab63fa",
           "#FFA15A",
           "#19d3f3",
           "#FF6692",
           "#B6E880",
           "#FF97FF",
           "#FECB52"
          ],
          "font": {
           "color": "#2a3f5f"
          },
          "geo": {
           "bgcolor": "white",
           "lakecolor": "white",
           "landcolor": "#E5ECF6",
           "showlakes": true,
           "showland": true,
           "subunitcolor": "white"
          },
          "hoverlabel": {
           "align": "left"
          },
          "hovermode": "closest",
          "mapbox": {
           "style": "light"
          },
          "paper_bgcolor": "white",
          "plot_bgcolor": "#E5ECF6",
          "polar": {
           "angularaxis": {
            "gridcolor": "white",
            "linecolor": "white",
            "ticks": ""
           },
           "bgcolor": "#E5ECF6",
           "radialaxis": {
            "gridcolor": "white",
            "linecolor": "white",
            "ticks": ""
           }
          },
          "scene": {
           "xaxis": {
            "backgroundcolor": "#E5ECF6",
            "gridcolor": "white",
            "gridwidth": 2,
            "linecolor": "white",
            "showbackground": true,
            "ticks": "",
            "zerolinecolor": "white"
           },
           "yaxis": {
            "backgroundcolor": "#E5ECF6",
            "gridcolor": "white",
            "gridwidth": 2,
            "linecolor": "white",
            "showbackground": true,
            "ticks": "",
            "zerolinecolor": "white"
           },
           "zaxis": {
            "backgroundcolor": "#E5ECF6",
            "gridcolor": "white",
            "gridwidth": 2,
            "linecolor": "white",
            "showbackground": true,
            "ticks": "",
            "zerolinecolor": "white"
           }
          },
          "shapedefaults": {
           "line": {
            "color": "#2a3f5f"
           }
          },
          "ternary": {
           "aaxis": {
            "gridcolor": "white",
            "linecolor": "white",
            "ticks": ""
           },
           "baxis": {
            "gridcolor": "white",
            "linecolor": "white",
            "ticks": ""
           },
           "bgcolor": "#E5ECF6",
           "caxis": {
            "gridcolor": "white",
            "linecolor": "white",
            "ticks": ""
           }
          },
          "title": {
           "x": 0.05
          },
          "xaxis": {
           "automargin": true,
           "gridcolor": "white",
           "linecolor": "white",
           "ticks": "",
           "title": {
            "standoff": 15
           },
           "zerolinecolor": "white",
           "zerolinewidth": 2
          },
          "yaxis": {
           "automargin": true,
           "gridcolor": "white",
           "linecolor": "white",
           "ticks": "",
           "title": {
            "standoff": 15
           },
           "zerolinecolor": "white",
           "zerolinewidth": 2
          }
         }
        },
        "title": {
         "text": "Crime count on each day"
        }
       }
      },
      "text/html": [
       "<div>                            <div id=\"0621110e-baa3-40cc-aa9b-cd27c4962a05\" class=\"plotly-graph-div\" style=\"height:525px; width:100%;\"></div>            <script type=\"text/javascript\">                require([\"plotly\"], function(Plotly) {                    window.PLOTLYENV=window.PLOTLYENV || {};                                    if (document.getElementById(\"0621110e-baa3-40cc-aa9b-cd27c4962a05\")) {                    Plotly.newPlot(                        \"0621110e-baa3-40cc-aa9b-cd27c4962a05\",                        [{\"hole\":0.4,\"labels\":[\"Friday\",\"Monday\",\"Saturday\",\"Sunday\",\"Thursday\",\"Tuesday\",\"Wednesday\"],\"type\":\"pie\",\"values\":[52251,49420,48336,43771,49875,49333,50328]}],                        {\"template\":{\"data\":{\"bar\":[{\"error_x\":{\"color\":\"#2a3f5f\"},\"error_y\":{\"color\":\"#2a3f5f\"},\"marker\":{\"line\":{\"color\":\"#E5ECF6\",\"width\":0.5},\"pattern\":{\"fillmode\":\"overlay\",\"size\":10,\"solidity\":0.2}},\"type\":\"bar\"}],\"barpolar\":[{\"marker\":{\"line\":{\"color\":\"#E5ECF6\",\"width\":0.5},\"pattern\":{\"fillmode\":\"overlay\",\"size\":10,\"solidity\":0.2}},\"type\":\"barpolar\"}],\"carpet\":[{\"aaxis\":{\"endlinecolor\":\"#2a3f5f\",\"gridcolor\":\"white\",\"linecolor\":\"white\",\"minorgridcolor\":\"white\",\"startlinecolor\":\"#2a3f5f\"},\"baxis\":{\"endlinecolor\":\"#2a3f5f\",\"gridcolor\":\"white\",\"linecolor\":\"white\",\"minorgridcolor\":\"white\",\"startlinecolor\":\"#2a3f5f\"},\"type\":\"carpet\"}],\"choropleth\":[{\"colorbar\":{\"outlinewidth\":0,\"ticks\":\"\"},\"type\":\"choropleth\"}],\"contour\":[{\"colorbar\":{\"outlinewidth\":0,\"ticks\":\"\"},\"colorscale\":[[0.0,\"#0d0887\"],[0.1111111111111111,\"#46039f\"],[0.2222222222222222,\"#7201a8\"],[0.3333333333333333,\"#9c179e\"],[0.4444444444444444,\"#bd3786\"],[0.5555555555555556,\"#d8576b\"],[0.6666666666666666,\"#ed7953\"],[0.7777777777777778,\"#fb9f3a\"],[0.8888888888888888,\"#fdca26\"],[1.0,\"#f0f921\"]],\"type\":\"contour\"}],\"contourcarpet\":[{\"colorbar\":{\"outlinewidth\":0,\"ticks\":\"\"},\"type\":\"contourcarpet\"}],\"heatmap\":[{\"colorbar\":{\"outlinewidth\":0,\"ticks\":\"\"},\"colorscale\":[[0.0,\"#0d0887\"],[0.1111111111111111,\"#46039f\"],[0.2222222222222222,\"#7201a8\"],[0.3333333333333333,\"#9c179e\"],[0.4444444444444444,\"#bd3786\"],[0.5555555555555556,\"#d8576b\"],[0.6666666666666666,\"#ed7953\"],[0.7777777777777778,\"#fb9f3a\"],[0.8888888888888888,\"#fdca26\"],[1.0,\"#f0f921\"]],\"type\":\"heatmap\"}],\"heatmapgl\":[{\"colorbar\":{\"outlinewidth\":0,\"ticks\":\"\"},\"colorscale\":[[0.0,\"#0d0887\"],[0.1111111111111111,\"#46039f\"],[0.2222222222222222,\"#7201a8\"],[0.3333333333333333,\"#9c179e\"],[0.4444444444444444,\"#bd3786\"],[0.5555555555555556,\"#d8576b\"],[0.6666666666666666,\"#ed7953\"],[0.7777777777777778,\"#fb9f3a\"],[0.8888888888888888,\"#fdca26\"],[1.0,\"#f0f921\"]],\"type\":\"heatmapgl\"}],\"histogram\":[{\"marker\":{\"pattern\":{\"fillmode\":\"overlay\",\"size\":10,\"solidity\":0.2}},\"type\":\"histogram\"}],\"histogram2d\":[{\"colorbar\":{\"outlinewidth\":0,\"ticks\":\"\"},\"colorscale\":[[0.0,\"#0d0887\"],[0.1111111111111111,\"#46039f\"],[0.2222222222222222,\"#7201a8\"],[0.3333333333333333,\"#9c179e\"],[0.4444444444444444,\"#bd3786\"],[0.5555555555555556,\"#d8576b\"],[0.6666666666666666,\"#ed7953\"],[0.7777777777777778,\"#fb9f3a\"],[0.8888888888888888,\"#fdca26\"],[1.0,\"#f0f921\"]],\"type\":\"histogram2d\"}],\"histogram2dcontour\":[{\"colorbar\":{\"outlinewidth\":0,\"ticks\":\"\"},\"colorscale\":[[0.0,\"#0d0887\"],[0.1111111111111111,\"#46039f\"],[0.2222222222222222,\"#7201a8\"],[0.3333333333333333,\"#9c179e\"],[0.4444444444444444,\"#bd3786\"],[0.5555555555555556,\"#d8576b\"],[0.6666666666666666,\"#ed7953\"],[0.7777777777777778,\"#fb9f3a\"],[0.8888888888888888,\"#fdca26\"],[1.0,\"#f0f921\"]],\"type\":\"histogram2dcontour\"}],\"mesh3d\":[{\"colorbar\":{\"outlinewidth\":0,\"ticks\":\"\"},\"type\":\"mesh3d\"}],\"parcoords\":[{\"line\":{\"colorbar\":{\"outlinewidth\":0,\"ticks\":\"\"}},\"type\":\"parcoords\"}],\"pie\":[{\"automargin\":true,\"type\":\"pie\"}],\"scatter\":[{\"marker\":{\"colorbar\":{\"outlinewidth\":0,\"ticks\":\"\"}},\"type\":\"scatter\"}],\"scatter3d\":[{\"line\":{\"colorbar\":{\"outlinewidth\":0,\"ticks\":\"\"}},\"marker\":{\"colorbar\":{\"outlinewidth\":0,\"ticks\":\"\"}},\"type\":\"scatter3d\"}],\"scattercarpet\":[{\"marker\":{\"colorbar\":{\"outlinewidth\":0,\"ticks\":\"\"}},\"type\":\"scattercarpet\"}],\"scattergeo\":[{\"marker\":{\"colorbar\":{\"outlinewidth\":0,\"ticks\":\"\"}},\"type\":\"scattergeo\"}],\"scattergl\":[{\"marker\":{\"colorbar\":{\"outlinewidth\":0,\"ticks\":\"\"}},\"type\":\"scattergl\"}],\"scattermapbox\":[{\"marker\":{\"colorbar\":{\"outlinewidth\":0,\"ticks\":\"\"}},\"type\":\"scattermapbox\"}],\"scatterpolar\":[{\"marker\":{\"colorbar\":{\"outlinewidth\":0,\"ticks\":\"\"}},\"type\":\"scatterpolar\"}],\"scatterpolargl\":[{\"marker\":{\"colorbar\":{\"outlinewidth\":0,\"ticks\":\"\"}},\"type\":\"scatterpolargl\"}],\"scatterternary\":[{\"marker\":{\"colorbar\":{\"outlinewidth\":0,\"ticks\":\"\"}},\"type\":\"scatterternary\"}],\"surface\":[{\"colorbar\":{\"outlinewidth\":0,\"ticks\":\"\"},\"colorscale\":[[0.0,\"#0d0887\"],[0.1111111111111111,\"#46039f\"],[0.2222222222222222,\"#7201a8\"],[0.3333333333333333,\"#9c179e\"],[0.4444444444444444,\"#bd3786\"],[0.5555555555555556,\"#d8576b\"],[0.6666666666666666,\"#ed7953\"],[0.7777777777777778,\"#fb9f3a\"],[0.8888888888888888,\"#fdca26\"],[1.0,\"#f0f921\"]],\"type\":\"surface\"}],\"table\":[{\"cells\":{\"fill\":{\"color\":\"#EBF0F8\"},\"line\":{\"color\":\"white\"}},\"header\":{\"fill\":{\"color\":\"#C8D4E3\"},\"line\":{\"color\":\"white\"}},\"type\":\"table\"}]},\"layout\":{\"annotationdefaults\":{\"arrowcolor\":\"#2a3f5f\",\"arrowhead\":0,\"arrowwidth\":1},\"autotypenumbers\":\"strict\",\"coloraxis\":{\"colorbar\":{\"outlinewidth\":0,\"ticks\":\"\"}},\"colorscale\":{\"diverging\":[[0,\"#8e0152\"],[0.1,\"#c51b7d\"],[0.2,\"#de77ae\"],[0.3,\"#f1b6da\"],[0.4,\"#fde0ef\"],[0.5,\"#f7f7f7\"],[0.6,\"#e6f5d0\"],[0.7,\"#b8e186\"],[0.8,\"#7fbc41\"],[0.9,\"#4d9221\"],[1,\"#276419\"]],\"sequential\":[[0.0,\"#0d0887\"],[0.1111111111111111,\"#46039f\"],[0.2222222222222222,\"#7201a8\"],[0.3333333333333333,\"#9c179e\"],[0.4444444444444444,\"#bd3786\"],[0.5555555555555556,\"#d8576b\"],[0.6666666666666666,\"#ed7953\"],[0.7777777777777778,\"#fb9f3a\"],[0.8888888888888888,\"#fdca26\"],[1.0,\"#f0f921\"]],\"sequentialminus\":[[0.0,\"#0d0887\"],[0.1111111111111111,\"#46039f\"],[0.2222222222222222,\"#7201a8\"],[0.3333333333333333,\"#9c179e\"],[0.4444444444444444,\"#bd3786\"],[0.5555555555555556,\"#d8576b\"],[0.6666666666666666,\"#ed7953\"],[0.7777777777777778,\"#fb9f3a\"],[0.8888888888888888,\"#fdca26\"],[1.0,\"#f0f921\"]]},\"colorway\":[\"#636efa\",\"#EF553B\",\"#00cc96\",\"#ab63fa\",\"#FFA15A\",\"#19d3f3\",\"#FF6692\",\"#B6E880\",\"#FF97FF\",\"#FECB52\"],\"font\":{\"color\":\"#2a3f5f\"},\"geo\":{\"bgcolor\":\"white\",\"lakecolor\":\"white\",\"landcolor\":\"#E5ECF6\",\"showlakes\":true,\"showland\":true,\"subunitcolor\":\"white\"},\"hoverlabel\":{\"align\":\"left\"},\"hovermode\":\"closest\",\"mapbox\":{\"style\":\"light\"},\"paper_bgcolor\":\"white\",\"plot_bgcolor\":\"#E5ECF6\",\"polar\":{\"angularaxis\":{\"gridcolor\":\"white\",\"linecolor\":\"white\",\"ticks\":\"\"},\"bgcolor\":\"#E5ECF6\",\"radialaxis\":{\"gridcolor\":\"white\",\"linecolor\":\"white\",\"ticks\":\"\"}},\"scene\":{\"xaxis\":{\"backgroundcolor\":\"#E5ECF6\",\"gridcolor\":\"white\",\"gridwidth\":2,\"linecolor\":\"white\",\"showbackground\":true,\"ticks\":\"\",\"zerolinecolor\":\"white\"},\"yaxis\":{\"backgroundcolor\":\"#E5ECF6\",\"gridcolor\":\"white\",\"gridwidth\":2,\"linecolor\":\"white\",\"showbackground\":true,\"ticks\":\"\",\"zerolinecolor\":\"white\"},\"zaxis\":{\"backgroundcolor\":\"#E5ECF6\",\"gridcolor\":\"white\",\"gridwidth\":2,\"linecolor\":\"white\",\"showbackground\":true,\"ticks\":\"\",\"zerolinecolor\":\"white\"}},\"shapedefaults\":{\"line\":{\"color\":\"#2a3f5f\"}},\"ternary\":{\"aaxis\":{\"gridcolor\":\"white\",\"linecolor\":\"white\",\"ticks\":\"\"},\"baxis\":{\"gridcolor\":\"white\",\"linecolor\":\"white\",\"ticks\":\"\"},\"bgcolor\":\"#E5ECF6\",\"caxis\":{\"gridcolor\":\"white\",\"linecolor\":\"white\",\"ticks\":\"\"}},\"title\":{\"x\":0.05},\"xaxis\":{\"automargin\":true,\"gridcolor\":\"white\",\"linecolor\":\"white\",\"ticks\":\"\",\"title\":{\"standoff\":15},\"zerolinecolor\":\"white\",\"zerolinewidth\":2},\"yaxis\":{\"automargin\":true,\"gridcolor\":\"white\",\"linecolor\":\"white\",\"ticks\":\"\",\"title\":{\"standoff\":15},\"zerolinecolor\":\"white\",\"zerolinewidth\":2}}},\"title\":{\"text\":\"Crime count on each day\"}},                        {\"responsive\": true}                    ).then(function(){\n",
       "                            \n",
       "var gd = document.getElementById('0621110e-baa3-40cc-aa9b-cd27c4962a05');\n",
       "var x = new MutationObserver(function (mutations, observer) {{\n",
       "        var display = window.getComputedStyle(gd).display;\n",
       "        if (!display || display === 'none') {{\n",
       "            console.log([gd, 'removed!']);\n",
       "            Plotly.purge(gd);\n",
       "            observer.disconnect();\n",
       "        }}\n",
       "}});\n",
       "\n",
       "// Listen for the removal of the full notebook cells\n",
       "var notebookContainer = gd.closest('#notebook-container');\n",
       "if (notebookContainer) {{\n",
       "    x.observe(notebookContainer, {childList: true});\n",
       "}}\n",
       "\n",
       "// Listen for the clearing of the current output cell\n",
       "var outputEl = gd.closest('.output');\n",
       "if (outputEl) {{\n",
       "    x.observe(outputEl, {childList: true});\n",
       "}}\n",
       "\n",
       "                        })                };                });            </script>        </div>"
      ]
     },
     "metadata": {},
     "output_type": "display_data"
    }
   ],
   "source": [
    "fig = go.Figure(data = [go.Pie(labels = days['DAY_OF_WEEK'], values = days['INCIDENT_NUMBER'], hole = 0.4)])\n",
    "fig.update_layout(title_text='Crime count on each day')"
   ]
  },
  {
   "cell_type": "code",
   "execution_count": 143,
   "id": "51a14c23",
   "metadata": {},
   "outputs": [
    {
     "data": {
      "text/plain": [
       "Text(0, 0.5, '# of Crimes')"
      ]
     },
     "execution_count": 143,
     "metadata": {},
     "output_type": "execute_result"
    },
    {
     "data": {
      "image/png": "[encoded data removed]",
      "text/plain": [
       "<Figure size 504x504 with 1 Axes>"
      ]
     },
     "metadata": {},
     "output_type": "display_data"
    }
   ],
   "source": [
    "hours = crime_all_new.groupby('HOUR').count()[['INCIDENT_NUMBER']]\n",
    "f = plt.figure()\n",
    "f.set_figwidth(7)\n",
    "f.set_figheight(7)\n",
    "plt.plot(hours['INCIDENT_NUMBER'])\n",
    "plt.title('Hourly Trends')\n",
    "plt.xlabel('Hour')\n",
    "plt.ylabel('# of Crimes')"
   ]
  },
  {
   "cell_type": "code",
   "execution_count": 144,
   "id": "621451dd",
   "metadata": {},
   "outputs": [],
   "source": [
    "top_five_crimes = ['Motor Vehicle Accident Response', 'Larceny', 'Medical Assistance', 'Investigate Person', 'Vandalism']\n",
    "top_five_line = crime_all_new.query(\"OFFENSE_CODE_GROUP_Clean == 'Motor Vehicle Accident Response' or OFFENSE_CODE_GROUP_Clean == 'Larceny' or OFFENSE_CODE_GROUP_Clean == 'Medical Assistance' or OFFENSE_CODE_GROUP_Clean == 'Investigate Person' or OFFENSE_CODE_GROUP_Clean == 'Vandalism'\")"
   ]
  },
  {
   "cell_type": "code",
   "execution_count": 145,
   "id": "274e6282",
   "metadata": {},
   "outputs": [],
   "source": [
    "top_five_line = top_five_line.groupby(['HOUR','OFFENSE_CODE_GROUP_Clean']).count().reset_index()"
   ]
  },
  {
   "cell_type": "code",
   "execution_count": 151,
   "id": "3180c9d6",
   "metadata": {},
   "outputs": [
    {
     "data": {
      "text/plain": [
       "Text(0, 0.5, '# of Crimes')"
      ]
     },
     "execution_count": 151,
     "metadata": {},
     "output_type": "execute_result"
    },
    {
     "data": {
      "image/png": "[encoded data removed]",
      "text/plain": [
       "<Figure size 1440x1440 with 1 Axes>"
      ]
     },
     "metadata": {},
     "output_type": "display_data"
    }
   ],
   "source": [
    "L =sns.lineplot(data = top_five_line, x = 'HOUR', y = 'INCIDENT_NUMBER', hue = 'OFFENSE_CODE_GROUP_Clean')\n",
    "sns.set(rc = {'figure.figsize':(20,20)})\n",
    "\n",
    "L.set_title('Hourly Top Five Crimes')\n",
    "L.set_ylabel('# of Crimes')"
   ]
  },
  {
   "cell_type": "code",
   "execution_count": 147,
   "id": "b7ae1fd9",
   "metadata": {},
   "outputs": [],
   "source": [
    "cat = [ 'Monday', 'Tuesday', 'Wednesday', 'Thursday', 'Friday', 'Saturday', 'Sunday']\n",
    "day_of_week = crime_all_new.groupby('DAY_OF_WEEK').count().reindex(cat).reset_index()"
   ]
  },
  {
   "cell_type": "code",
   "execution_count": 148,
   "id": "c88f0acc",
   "metadata": {},
   "outputs": [
    {
     "data": {
      "text/plain": [
       "Text(0.5, 20.200000000000003, 'Count')"
      ]
     },
     "execution_count": 148,
     "metadata": {},
     "output_type": "execute_result"
    },
    {
     "data": {
      "image/png": "[encoded data removed]",
      "text/plain": [
       "<Figure size 720x360 with 1 Axes>"
      ]
     },
     "metadata": {},
     "output_type": "display_data"
    }
   ],
   "source": [
    "sns.barplot(data = day_of_week, x = 'INCIDENT_NUMBER', y = 'DAY_OF_WEEK', orient = 'h')\n",
    "sns.set(rc = {'figure.figsize':(10,5)})\n",
    "L.set_title('# of Crimes by days')\n",
    "L.set_xlabel('Count')"
   ]
  },
  {
   "cell_type": "code",
   "execution_count": 149,
   "id": "66793446",
   "metadata": {
    "scrolled": true
   },
   "outputs": [
    {
     "data": {
      "text/plain": [
       "Text(0.5, 0, '# of Crimes')"
      ]
     },
     "execution_count": 149,
     "metadata": {},
     "output_type": "execute_result"
    },
    {
     "data": {
      "image/png": "[encoded data removed]",
      "text/plain": [
       "<Figure size 720x360 with 1 Axes>"
      ]
     },
     "metadata": {},
     "output_type": "display_data"
    }
   ],
   "source": [
    "crime_in_district = crime_all_new.groupby('DISTRICT').count()[['INCIDENT_NUMBER']].sort_values('INCIDENT_NUMBER', ascending = False).reset_index()\n",
    "J = sns.barplot(y = 'DISTRICT', x = 'INCIDENT_NUMBER', data = crime_in_district, orient = 'h')\n",
    "J.set_title('Crimes by Districts')\n",
    "J.set_xlabel('# of Crimes')"
   ]
  },
  {
   "cell_type": "code",
   "execution_count": null,
   "id": "9a3e3534",
   "metadata": {},
   "outputs": [],
   "source": []
  },
  {
   "cell_type": "code",
   "execution_count": null,
   "id": "efc05b60",
   "metadata": {},
   "outputs": [],
   "source": []
  }
 ],
 "metadata": {
  "kernelspec": {
   "display_name": "Python 3 (ipykernel)",
   "language": "python",
   "name": "python3"
  },
  "language_info": {
   "codemirror_mode": {
    "name": "ipython",
    "version": 3
   },
   "file_extension": ".py",
   "mimetype": "text/x-python",
   "name": "python",
   "nbconvert_exporter": "python",
   "pygments_lexer": "ipython3",
   "version": "3.9.7"
  }
 },
 "nbformat": 4,
 "nbformat_minor": 5
}
